{
  "nbformat": 4,
  "nbformat_minor": 5,
  "metadata": {
    "kernelspec": {
      "display_name": "cuda2",
      "language": "python",
      "name": "cuda2"
    },
    "language_info": {
      "codemirror_mode": {
        "name": "ipython",
        "version": 3
      },
      "file_extension": ".py",
      "mimetype": "text/x-python",
      "name": "python",
      "nbconvert_exporter": "python",
      "pygments_lexer": "ipython3",
      "version": "3.7.0"
    },
    "colab": {
      "name": "2차_Biometry_Finger (1).ipynb",
      "provenance": [],
      "collapsed_sections": []
    },
    "accelerator": "GPU"
  },
  "cells": [
    {
      "cell_type": "code",
      "metadata": {
        "id": "851e51f7"
      },
      "source": [
        "import tensorflow as tf"
      ],
      "id": "851e51f7",
      "execution_count": null,
      "outputs": []
    },
    {
      "cell_type": "code",
      "metadata": {
        "colab": {
          "base_uri": "https://localhost:8080/"
        },
        "id": "069a8b95",
        "outputId": "fadc1d23-4316-457e-a702-cdfb9df672ef"
      },
      "source": [
        "print(tf.__version__)\n",
        "tf.config.list_physical_devices('GPU')"
      ],
      "id": "069a8b95",
      "execution_count": null,
      "outputs": [
        {
          "output_type": "stream",
          "text": [
            "2.4.1\n"
          ],
          "name": "stdout"
        },
        {
          "output_type": "execute_result",
          "data": {
            "text/plain": [
              "[PhysicalDevice(name='/physical_device:GPU:0', device_type='GPU')]"
            ]
          },
          "metadata": {
            "tags": []
          },
          "execution_count": 206
        }
      ]
    },
    {
      "cell_type": "code",
      "metadata": {
        "colab": {
          "base_uri": "https://localhost:8080/"
        },
        "id": "aF0K8RUrFd5I",
        "outputId": "7de417c9-a077-4328-d6c6-899aaa80b729"
      },
      "source": [
        "from google.colab import drive\n",
        "drive.mount('/gdrive', force_remount=True)"
      ],
      "id": "aF0K8RUrFd5I",
      "execution_count": null,
      "outputs": [
        {
          "output_type": "stream",
          "text": [
            "Mounted at /gdrive\n"
          ],
          "name": "stdout"
        }
      ]
    },
    {
      "cell_type": "code",
      "metadata": {
        "id": "DGjlmmBLJmSM"
      },
      "source": [
        "path = '/gdrive/My Drive/'"
      ],
      "id": "DGjlmmBLJmSM",
      "execution_count": null,
      "outputs": []
    },
    {
      "cell_type": "markdown",
      "metadata": {
        "id": "GkxM3oUBMe6W"
      },
      "source": [
        "<h1> Build CNN Model </h1>"
      ],
      "id": "GkxM3oUBMe6W"
    },
    {
      "cell_type": "code",
      "metadata": {
        "id": "23db36c7"
      },
      "source": [
        "from keras import Sequential\n",
        "from keras import models, layers, optimizers, utils\n",
        "from keras.layers import Dropout, Activation, Dense\n",
        "from keras.layers import Flatten, Convolution2D, MaxPooling2D, ZeroPadding2D\n",
        "from keras.models import load_model"
      ],
      "id": "23db36c7",
      "execution_count": null,
      "outputs": []
    },
    {
      "cell_type": "code",
      "metadata": {
        "id": "78a2d4e8"
      },
      "source": [
        "# 이미지 크기 지정\n",
        "\n",
        "IMAGE_WIDTH = 224\n",
        "IMAGE_HEIGHT = 224"
      ],
      "id": "78a2d4e8",
      "execution_count": null,
      "outputs": []
    },
    {
      "cell_type": "code",
      "metadata": {
        "id": "4a85b0f5"
      },
      "source": [
        "# 모델 생성\n",
        "\n",
        "def build_model():\n",
        "\n",
        "    learning_rate = 0.0001\n",
        "    model = Sequential()\n",
        "    model.add(ZeroPadding2D((1,1),input_shape=(IMAGE_WIDTH, IMAGE_HEIGHT, 3)))\n",
        "    model.add(Convolution2D(64, (3, 3), activation='relu'))\n",
        "    model.add(ZeroPadding2D((1,1)))\n",
        "    model.add(Convolution2D(64, (3, 3), activation='relu'))\n",
        "    model.add(MaxPooling2D((2,2), strides=(2,2)))\n",
        "    \n",
        "    model.add(ZeroPadding2D((1,1)))\n",
        "    model.add(Convolution2D(128, (3, 3), activation='relu'))\n",
        "    model.add(ZeroPadding2D((1,1)))\n",
        "    model.add(Convolution2D(128, (3, 3), activation='relu'))\n",
        "    model.add(MaxPooling2D((2,2), strides=(2,2)))\n",
        "    \n",
        "    model.add(ZeroPadding2D((1,1)))\n",
        "    model.add(Convolution2D(256, (3, 3), activation='relu'))\n",
        "    model.add(ZeroPadding2D((1,1)))\n",
        "    model.add(Convolution2D(256, (3, 3), activation='relu'))\n",
        "    model.add(ZeroPadding2D((1,1)))\n",
        "    model.add(Convolution2D(256, (3, 3), activation='relu'))\n",
        "    model.add(MaxPooling2D((2,2), strides=(2,2)))\n",
        "    \n",
        "    model.add(ZeroPadding2D((1,1)))\n",
        "    model.add(Convolution2D(512, (3, 3), activation='relu'))\n",
        "    model.add(ZeroPadding2D((1,1)))\n",
        "    model.add(Convolution2D(512, (3, 3), activation='relu'))\n",
        "    model.add(ZeroPadding2D((1,1)))\n",
        "    model.add(Convolution2D(512, (3, 3), activation='relu'))\n",
        "    model.add(MaxPooling2D((2,2), strides=(2,2)))\n",
        "    \n",
        "    model.add(ZeroPadding2D((1,1)))\n",
        "    model.add(Convolution2D(512, (3, 3), activation='relu'))\n",
        "    model.add(ZeroPadding2D((1,1)))\n",
        "    model.add(Convolution2D(512, (3, 3), activation='relu'))\n",
        "    model.add(ZeroPadding2D((1,1)))\n",
        "    model.add(Convolution2D(512, (3, 3), activation='relu'))\n",
        "    model.add(MaxPooling2D((2,2), strides=(2,2)))\n",
        "    \n",
        "    model.add(Convolution2D(4096, (7, 7), activation='relu'))\n",
        "    model.add(Dropout(0.5))\n",
        "    model.add(Convolution2D(4096, (1, 1), activation='relu'))\n",
        "    model.add(Dropout(0.5))\n",
        "    model.add(Convolution2D(2622, (1, 1)))\n",
        "    model.add(Flatten())\n",
        "    model.add(Activation('softmax'))\n",
        "    \n",
        "    return model"
      ],
      "id": "4a85b0f5",
      "execution_count": null,
      "outputs": []
    },
    {
      "cell_type": "code",
      "metadata": {
        "colab": {
          "base_uri": "https://localhost:8080/"
        },
        "id": "5f3198d5",
        "outputId": "80350868-3ddd-45d1-ce35-432fafcdabb5"
      },
      "source": [
        "model = build_model()\n",
        "model.load_weights(path+'/vgg_face_weights.h5')\n",
        "model.summary()"
      ],
      "id": "5f3198d5",
      "execution_count": null,
      "outputs": [
        {
          "output_type": "stream",
          "text": [
            "Model: \"sequential_1\"\n",
            "_________________________________________________________________\n",
            "Layer (type)                 Output Shape              Param #   \n",
            "=================================================================\n",
            "zero_padding2d_13 (ZeroPaddi (None, 226, 226, 3)       0         \n",
            "_________________________________________________________________\n",
            "conv2d_14 (Conv2D)           (None, 224, 224, 64)      1792      \n",
            "_________________________________________________________________\n",
            "zero_padding2d_14 (ZeroPaddi (None, 226, 226, 64)      0         \n",
            "_________________________________________________________________\n",
            "conv2d_15 (Conv2D)           (None, 224, 224, 64)      36928     \n",
            "_________________________________________________________________\n",
            "max_pooling2d_5 (MaxPooling2 (None, 112, 112, 64)      0         \n",
            "_________________________________________________________________\n",
            "zero_padding2d_15 (ZeroPaddi (None, 114, 114, 64)      0         \n",
            "_________________________________________________________________\n",
            "conv2d_16 (Conv2D)           (None, 112, 112, 128)     73856     \n",
            "_________________________________________________________________\n",
            "zero_padding2d_16 (ZeroPaddi (None, 114, 114, 128)     0         \n",
            "_________________________________________________________________\n",
            "conv2d_17 (Conv2D)           (None, 112, 112, 128)     147584    \n",
            "_________________________________________________________________\n",
            "max_pooling2d_6 (MaxPooling2 (None, 56, 56, 128)       0         \n",
            "_________________________________________________________________\n",
            "zero_padding2d_17 (ZeroPaddi (None, 58, 58, 128)       0         \n",
            "_________________________________________________________________\n",
            "conv2d_18 (Conv2D)           (None, 56, 56, 256)       295168    \n",
            "_________________________________________________________________\n",
            "zero_padding2d_18 (ZeroPaddi (None, 58, 58, 256)       0         \n",
            "_________________________________________________________________\n",
            "conv2d_19 (Conv2D)           (None, 56, 56, 256)       590080    \n",
            "_________________________________________________________________\n",
            "zero_padding2d_19 (ZeroPaddi (None, 58, 58, 256)       0         \n",
            "_________________________________________________________________\n",
            "conv2d_20 (Conv2D)           (None, 56, 56, 256)       590080    \n",
            "_________________________________________________________________\n",
            "max_pooling2d_7 (MaxPooling2 (None, 28, 28, 256)       0         \n",
            "_________________________________________________________________\n",
            "zero_padding2d_20 (ZeroPaddi (None, 30, 30, 256)       0         \n",
            "_________________________________________________________________\n",
            "conv2d_21 (Conv2D)           (None, 28, 28, 512)       1180160   \n",
            "_________________________________________________________________\n",
            "zero_padding2d_21 (ZeroPaddi (None, 30, 30, 512)       0         \n",
            "_________________________________________________________________\n",
            "conv2d_22 (Conv2D)           (None, 28, 28, 512)       2359808   \n",
            "_________________________________________________________________\n",
            "zero_padding2d_22 (ZeroPaddi (None, 30, 30, 512)       0         \n",
            "_________________________________________________________________\n",
            "conv2d_23 (Conv2D)           (None, 28, 28, 512)       2359808   \n",
            "_________________________________________________________________\n",
            "max_pooling2d_8 (MaxPooling2 (None, 14, 14, 512)       0         \n",
            "_________________________________________________________________\n",
            "zero_padding2d_23 (ZeroPaddi (None, 16, 16, 512)       0         \n",
            "_________________________________________________________________\n",
            "conv2d_24 (Conv2D)           (None, 14, 14, 512)       2359808   \n",
            "_________________________________________________________________\n",
            "zero_padding2d_24 (ZeroPaddi (None, 16, 16, 512)       0         \n",
            "_________________________________________________________________\n",
            "conv2d_25 (Conv2D)           (None, 14, 14, 512)       2359808   \n",
            "_________________________________________________________________\n",
            "zero_padding2d_25 (ZeroPaddi (None, 16, 16, 512)       0         \n",
            "_________________________________________________________________\n",
            "conv2d_26 (Conv2D)           (None, 14, 14, 512)       2359808   \n",
            "_________________________________________________________________\n",
            "max_pooling2d_9 (MaxPooling2 (None, 7, 7, 512)         0         \n",
            "_________________________________________________________________\n",
            "conv2d_27 (Conv2D)           (None, 1, 1, 4096)        102764544 \n",
            "_________________________________________________________________\n",
            "dropout (Dropout)            (None, 1, 1, 4096)        0         \n",
            "_________________________________________________________________\n",
            "conv2d_28 (Conv2D)           (None, 1, 1, 4096)        16781312  \n",
            "_________________________________________________________________\n",
            "dropout_1 (Dropout)          (None, 1, 1, 4096)        0         \n",
            "_________________________________________________________________\n",
            "conv2d_29 (Conv2D)           (None, 1, 1, 2622)        10742334  \n",
            "_________________________________________________________________\n",
            "flatten (Flatten)            (None, 2622)              0         \n",
            "_________________________________________________________________\n",
            "activation (Activation)      (None, 2622)              0         \n",
            "=================================================================\n",
            "Total params: 145,002,878\n",
            "Trainable params: 145,002,878\n",
            "Non-trainable params: 0\n",
            "_________________________________________________________________\n"
          ],
          "name": "stdout"
        }
      ]
    },
    {
      "cell_type": "code",
      "metadata": {
        "id": "cccd556b"
      },
      "source": [
        "from tensorflow.keras.models import Model\n",
        "face_descriptor = Model(inputs=model.layers[0].input, outputs=model.layers[-2].output)"
      ],
      "id": "cccd556b",
      "execution_count": null,
      "outputs": []
    },
    {
      "cell_type": "markdown",
      "metadata": {
        "id": "61136cf5"
      },
      "source": [
        "<h1> Load Image </h1>"
      ],
      "id": "61136cf5"
    },
    {
      "cell_type": "code",
      "metadata": {
        "id": "aca97b7a"
      },
      "source": [
        "import numpy as np\n",
        "import pandas as pd\n",
        "import matplotlib.pyplot as plt\n",
        "import keras\n",
        "from keras.preprocessing.image import load_img\n",
        "import random\n",
        "import os, sys\n",
        "from keras.preprocessing import image\n",
        "from PIL import Image"
      ],
      "id": "aca97b7a",
      "execution_count": null,
      "outputs": []
    },
    {
      "cell_type": "code",
      "metadata": {
        "id": "23e5dae5"
      },
      "source": [
        "from keras.preprocessing.image import ImageDataGenerator, array_to_img, img_to_array\n",
        "from numpy import expand_dims"
      ],
      "id": "23e5dae5",
      "execution_count": null,
      "outputs": []
    },
    {
      "cell_type": "code",
      "metadata": {
        "id": "d3dd3f58"
      },
      "source": [
        "import cv2\n",
        "import sys"
      ],
      "id": "d3dd3f58",
      "execution_count": null,
      "outputs": []
    },
    {
      "cell_type": "code",
      "metadata": {
        "id": "2c34cdd3"
      },
      "source": [
        "# 이미지에서 얼굴 영역만 크롭한다.\n",
        "\n",
        "def image_load(imagePath):\n",
        "    global cropped_face\n",
        "    cascPath = \"/gdrive/My Drive/haarcascade_frontalface_default.xml\"\n",
        "    faceCascade = cv2.CascadeClassifier(cascPath)\n",
        "\n",
        "    image = cv2.imread(imagePath)\n",
        "    gray = cv2.cvtColor(image, cv2.COLOR_BGR2GRAY)\n",
        "    \n",
        "    faces = faceCascade.detectMultiScale(\n",
        "        gray,\n",
        "        scaleFactor=1.1,\n",
        "        minSize=(15, 15))\n",
        "\n",
        "    for (x, y, w, h) in faces:\n",
        "        cropped_face = image[y:y+h, x:x+w]\n",
        "    \n",
        "    return cropped_face"
      ],
      "id": "2c34cdd3",
      "execution_count": null,
      "outputs": []
    },
    {
      "cell_type": "code",
      "metadata": {
        "colab": {
          "base_uri": "https://localhost:8080/",
          "height": 287
        },
        "id": "7af1f3cf",
        "outputId": "2dc47918-82e8-42b2-f47b-375dfcf79933"
      },
      "source": [
        "# 이미지 로드 확인\n",
        "\n",
        "tmpPath = \"/gdrive/My Drive/02_face_training/0124_0002.BMP\"\n",
        "tmp_image = image_load(tmpPath)\n",
        "tmp_image = cv2.resize(tmp_image, (IMAGE_WIDTH, IMAGE_HEIGHT), cv2.INTER_AREA)\n",
        "plt.imshow(tmp_image)"
      ],
      "id": "7af1f3cf",
      "execution_count": null,
      "outputs": [
        {
          "output_type": "execute_result",
          "data": {
            "text/plain": [
              "<matplotlib.image.AxesImage at 0x7f6bfaeaead0>"
            ]
          },
          "metadata": {
            "tags": []
          },
          "execution_count": 18
        },
        {
          "output_type": "display_data",
          "data": {
            "image/png": "[encoded data removed]",
            "text/plain": [
              "<Figure size 432x288 with 1 Axes>"
            ]
          },
          "metadata": {
            "tags": [],
            "needs_background": "light"
          }
        }
      ]
    },
    {
      "cell_type": "code",
      "metadata": {
        "id": "7eef81d1"
      },
      "source": [
        "tmp_image = image_load(tmpPath)\n",
        "tmp_image = (tmp_image / 255.).astype(np.float32)\n",
        "tmp_image = cv2.resize(tmp_image, (IMAGE_WIDTH, IMAGE_HEIGHT), cv2.INTER_AREA)\n",
        "\n",
        "embedding_vector = face_descriptor.predict(np.expand_dims(tmp_image, axis=0))[0]"
      ],
      "id": "7eef81d1",
      "execution_count": null,
      "outputs": []
    },
    {
      "cell_type": "code",
      "metadata": {
        "colab": {
          "base_uri": "https://localhost:8080/"
        },
        "id": "9dd27da6",
        "outputId": "91a544ac-d60b-4d21-c095-5c16e133c2b0"
      },
      "source": [
        "print(tmp_image.shape)\n",
        "print(embedding_vector.shape)"
      ],
      "id": "9dd27da6",
      "execution_count": null,
      "outputs": [
        {
          "output_type": "stream",
          "text": [
            "(224, 224, 3)\n",
            "(2622,)\n"
          ],
          "name": "stdout"
        }
      ]
    },
    {
      "cell_type": "code",
      "metadata": {
        "id": "qKIb-eN-qbhW"
      },
      "source": [
        "# 테스트데이터 파일을 숫자 정렬\n",
        "import natsort\n",
        "train_order = os.listdir(path+'02_face_training')\n",
        "train_order = natsort.natsorted(train_order)"
      ],
      "id": "qKIb-eN-qbhW",
      "execution_count": null,
      "outputs": []
    },
    {
      "cell_type": "code",
      "metadata": {
        "id": "1f91880d"
      },
      "source": [
        "# 이미지를 350개의 카테고리로 분류\n",
        "nb_classes = 350\n",
        "\n",
        "label= []\n",
        "embeddings = np.zeros((nb_classes*3, 2622))\n",
        "\n",
        "i = 0\n",
        "\n",
        "for filename in train_order:\n",
        "    category = filename.split(\"_\")[0]\n",
        "    imagePath = path + '/02_face_training/' + filename\n",
        "    \n",
        "    image = image_load(imagePath)\n",
        "    image = (image / 255.).astype(np.float32)\n",
        "    image = cv2.resize(image, (IMAGE_WIDTH, IMAGE_HEIGHT), cv2.INTER_AREA)\n",
        "    \n",
        "    # face_descriptor 모델에서 나온 특징점들을 저장\n",
        "    embeddings[i]= face_descriptor.predict(np.expand_dims(image, axis=0))[0]\n",
        "    label.append(int(category)-1)\n",
        "    i += 1"
      ],
      "id": "1f91880d",
      "execution_count": null,
      "outputs": []
    },
    {
      "cell_type": "code",
      "metadata": {
        "id": "1f3d7fc5"
      },
      "source": [
        "# 훈련데이터셋 형성\n",
        "train_data = [embeddings, label]\n",
        "(X, Y) = (train_data[0], train_data[1])"
      ],
      "id": "1f3d7fc5",
      "execution_count": null,
      "outputs": []
    },
    {
      "cell_type": "code",
      "metadata": {
        "id": "f6219aef"
      },
      "source": [
        "X = np.asarray(X, dtype = np.uint8)\n",
        "Y = np.asarray(Y, dtype = np.uint8)"
      ],
      "id": "f6219aef",
      "execution_count": null,
      "outputs": []
    },
    {
      "cell_type": "code",
      "metadata": {
        "colab": {
          "base_uri": "https://localhost:8080/"
        },
        "id": "b6639736",
        "outputId": "addb379e-aa5b-4dfe-c751-10a8695f0115"
      },
      "source": [
        "print(X.shape)"
      ],
      "id": "b6639736",
      "execution_count": null,
      "outputs": [
        {
          "output_type": "stream",
          "text": [
            "(1050, 2622)\n"
          ],
          "name": "stdout"
        }
      ]
    },
    {
      "cell_type": "markdown",
      "metadata": {
        "id": "SdjnCnBPSeRn"
      },
      "source": [
        "<h1> Feature Distance </h1>"
      ],
      "id": "SdjnCnBPSeRn"
    },
    {
      "cell_type": "code",
      "metadata": {
        "id": "430593a3"
      },
      "source": [
        "# 테스트 데이터 간 거리 계산 함수\n",
        "def distance(emb1, emb2):\n",
        "    return np.sum(np.square(emb1 - emb2))"
      ],
      "id": "430593a3",
      "execution_count": null,
      "outputs": []
    },
    {
      "cell_type": "code",
      "metadata": {
        "colab": {
          "base_uri": "https://localhost:8080/",
          "height": 683
        },
        "id": "d98ea861",
        "outputId": "0f01d7f5-c7c2-48c0-802b-2c412246d161"
      },
      "source": [
        "import matplotlib.pyplot as plt\n",
        "\n",
        "plt.figure(figsize=(8,3))\n",
        "plt.suptitle(f'Distance = {distance(embeddings[10], embeddings[10]):.2f}')\n",
        "plt.subplot(121)\n",
        "plt.imshow(image_load(path +'02_face_training/0004_0002.BMP'))\n",
        "plt.subplot(122)\n",
        "plt.imshow(image_load(path +'02_face_training/0004_0002.BMP'))\n",
        "\n",
        "plt.figure(figsize=(8,3))\n",
        "plt.suptitle(f'Distance = {distance(embeddings[0], embeddings[5]):.2f}')\n",
        "plt.subplot(121)\n",
        "plt.imshow(image_load(path +'02_face_training/0001_0001.BMP'))\n",
        "plt.subplot(122)\n",
        "plt.imshow(image_load(path +'02_face_training/0002_0002.BMP'))\n",
        "\n",
        "plt.figure(figsize=(8,3))\n",
        "plt.suptitle(f'Distance = {distance(embeddings[8], embeddings[12]):.2f}')\n",
        "plt.subplot(121)\n",
        "plt.imshow(image_load(path +'02_face_training/0003_0002.BMP'))\n",
        "plt.subplot(122)\n",
        "plt.imshow(image_load(path +'02_face_training/0005_0001.BMP'))"
      ],
      "id": "d98ea861",
      "execution_count": null,
      "outputs": [
        {
          "output_type": "execute_result",
          "data": {
            "text/plain": [
              "<matplotlib.image.AxesImage at 0x7f6bfa0636d0>"
            ]
          },
          "metadata": {
            "tags": []
          },
          "execution_count": 172
        },
        {
          "output_type": "display_data",
          "data": {
            "image/png": "[encoded data removed]",
            "text/plain": [
              "<Figure size 576x216 with 2 Axes>"
            ]
          },
          "metadata": {
            "tags": [],
            "needs_background": "light"
          }
        },
        {
          "output_type": "display_data",
          "data": {
            "image/png": "[encoded data removed]",
            "text/plain": [
              "<Figure size 576x216 with 2 Axes>"
            ]
          },
          "metadata": {
            "tags": [],
            "needs_background": "light"
          }
        },
        {
          "output_type": "display_data",
          "data": {
            "image/png": "[encoded data removed]",
            "text/plain": [
              "<Figure size 576x216 with 2 Axes>"
            ]
          },
          "metadata": {
            "tags": [],
            "needs_background": "light"
          }
        }
      ]
    },
    {
      "cell_type": "code",
      "metadata": {
        "id": "19ef3ff5"
      },
      "source": [
        "# 10개의 데이터마다 train과 test 세트로 분리\n",
        "train_idx = np.arange(nb_classes*3) % 10 != 0\n",
        "test_idx = np.arange(nb_classes*3) % 10 == 0\n",
        "\n",
        "X_train = embeddings[train_idx]\n",
        "X_test = embeddings[test_idx]\n",
        "\n",
        "targets = np.array(label)\n",
        "\n",
        "y_train = Y[train_idx]\n",
        "y_test = Y[test_idx]"
      ],
      "id": "19ef3ff5",
      "execution_count": null,
      "outputs": []
    },
    {
      "cell_type": "code",
      "metadata": {
        "id": "bb6941e6"
      },
      "source": [
        "from sklearn.preprocessing import LabelEncoder\n",
        "encoder = LabelEncoder()\n",
        "y_train_label = encoder.fit_transform(y_train)\n",
        "y_test_label = encoder.transform(y_test)"
      ],
      "id": "bb6941e6",
      "execution_count": null,
      "outputs": []
    },
    {
      "cell_type": "code",
      "metadata": {
        "colab": {
          "base_uri": "https://localhost:8080/"
        },
        "id": "110fa16d",
        "outputId": "c4f09388-53c5-4649-fe27-fb78bf8eae5f"
      },
      "source": [
        "# 3번의 cross validation을 통해 training set score 교차 검증\n",
        "from sklearn.model_selection import cross_val_score\n",
        "from sklearn.svm import LinearSVC\n",
        "\n",
        "# SVM으로 학습 데이터 훈련\n",
        "svc = LinearSVC(C = 10) \n",
        "svc.fit(X_train, y_train_label)\n",
        "y_pred = svc.predict(X_test)\n",
        "\n",
        "print(\"Accuracy on training set: {:.2f}\".format(cross_val_score(svc, X_train, y_train_label, cv=3)))\n",
        "print(\"Accuracy on test set: {:.2f}\".format(svc.score(X_test, y_test_label)))"
      ],
      "id": "110fa16d",
      "execution_count": null,
      "outputs": [
        {
          "output_type": "stream",
          "text": [
            "/usr/local/lib/python3.7/dist-packages/sklearn/model_selection/_split.py:667: UserWarning: The least populated class in y has only 2 members, which is less than n_splits=3.\n",
            "  % (min_groups, self.n_splits)), UserWarning)\n"
          ],
          "name": "stderr"
        },
        {
          "output_type": "stream",
          "text": [
            "Accuracy on training set: {:.2f} [0.93650794 0.94920635 0.93333333]\n",
            "Accuracy on test set: {:.2f} 0.9333333333333333\n"
          ],
          "name": "stdout"
        }
      ]
    },
    {
      "cell_type": "code",
      "metadata": {
        "colab": {
          "base_uri": "https://localhost:8080/"
        },
        "id": "xp8eNM0RXnI1",
        "outputId": "e2fe5994-526d-4d30-da16-d96145ad2f54"
      },
      "source": [
        "# KNN으로 학습 데이터 훈련\n",
        "from sklearn.neighbors import KNeighborsClassifier\n",
        "\n",
        "knn = KNeighborsClassifier(n_neighbors=1, metric='euclidean')\n",
        "knn.fit(X_train, y_train_label)\n",
        "\n",
        "print(\"Accuracy on training set: {:.2f}\".format(knn.score(X_train, y_train_label)))\n",
        "print(\"Accuracy on test set: {:.2f}\".format(knn.score(X_test, y_test_label)))"
      ],
      "id": "xp8eNM0RXnI1",
      "execution_count": null,
      "outputs": [
        {
          "output_type": "stream",
          "text": [
            "Accuracy on training set: 0.99\n",
            "Accuracy on test set: 0.90\n"
          ],
          "name": "stdout"
        }
      ]
    },
    {
      "cell_type": "code",
      "metadata": {
        "colab": {
          "base_uri": "https://localhost:8080/"
        },
        "id": "JW1bNx7yNcQr",
        "outputId": "ff3f0ee1-9dff-48e9-949e-158ada8d5f5f"
      },
      "source": [
        "from sklearn.metrics import accuracy_score, recall_score, precision_score, f1_score\n",
        "\n",
        "print(\"accuracy: {:.2f}\".format(accuracy_score(y_test_label, y_pred)))\n",
        "print(\"Precision: {:.2f}\".format(precision_score(y_test_label, y_pred, average = 'micro')))\n",
        "print(\"Recall: {:.2f}\".format(recall_score(y_test_label, y_pred, average = 'micro')))\n",
        "print(\"F1-score: {:.2f}\".format(f1_score(y_test_label, y_pred, average = 'micro')))"
      ],
      "id": "JW1bNx7yNcQr",
      "execution_count": null,
      "outputs": [
        {
          "output_type": "stream",
          "text": [
            "accuracy: 0.93\n",
            "Precision: 0.93\n",
            "Recall: 0.93\n",
            "F1-score: 0.93\n"
          ],
          "name": "stdout"
        }
      ]
    },
    {
      "cell_type": "markdown",
      "metadata": {
        "id": "2556bc9d"
      },
      "source": [
        "<h1> Test </h1>"
      ],
      "id": "2556bc9d"
    },
    {
      "cell_type": "code",
      "metadata": {
        "id": "61e4e7e3"
      },
      "source": [
        "# 테스트데이터 파일을 숫자 순으로 정렬\n",
        "import natsort\n",
        "order_list = os.listdir(path+'02_face_test')\n",
        "order_list = natsort.natsorted(order_list)"
      ],
      "id": "61e4e7e3",
      "execution_count": null,
      "outputs": []
    },
    {
      "cell_type": "code",
      "metadata": {
        "id": "YCa1g6-gYg4e"
      },
      "source": [
        "test_embed = np.zeros((700, 2622))\n",
        "\n",
        "i = 0\n",
        "for filename in order_list:\n",
        "    imagePath = path + '/02_face_test/' + filename\n",
        "    \n",
        "    test_image = image_load(imagePath)\n",
        "    test_image = (test_image / 255.).astype(np.float32)\n",
        "    test_image = cv2.resize(test_image, (IMAGE_WIDTH, IMAGE_HEIGHT), cv2.INTER_AREA)\n",
        "    \n",
        "    test_embed[i]= face_descriptor.predict(np.expand_dims(test_image, axis=0))[0]\n",
        "    test_data.append(np.array(test_image))\n",
        "    i += 1"
      ],
      "id": "YCa1g6-gYg4e",
      "execution_count": null,
      "outputs": []
    },
    {
      "cell_type": "code",
      "metadata": {
        "colab": {
          "base_uri": "https://localhost:8080/"
        },
        "id": "qhpYCx7Tdir-",
        "outputId": "5fa9c520-161f-45ee-f0fb-4eba2338ce6e"
      },
      "source": [
        "test_embed.shape"
      ],
      "id": "qhpYCx7Tdir-",
      "execution_count": null,
      "outputs": [
        {
          "output_type": "execute_result",
          "data": {
            "text/plain": [
              "(700, 2622)"
            ]
          },
          "metadata": {
            "tags": []
          },
          "execution_count": 184
        }
      ]
    },
    {
      "cell_type": "code",
      "metadata": {
        "id": "a11f69be"
      },
      "source": [
        "svc_predict = svc.predict(test_embed)\n",
        "knn_predict = knn.predict(test_embed)"
      ],
      "id": "a11f69be",
      "execution_count": null,
      "outputs": []
    },
    {
      "cell_type": "markdown",
      "metadata": {
        "id": "a0696d0a"
      },
      "source": [
        "<h1> SVM Result </h1>"
      ],
      "id": "a0696d0a"
    },
    {
      "cell_type": "code",
      "metadata": {
        "id": "10ec15c2"
      },
      "source": [
        "import csv\n",
        "f = open(path + 'face_result_svc.csv', 'w', newline='')\n",
        "wr = csv.writer(f)"
      ],
      "id": "10ec15c2",
      "execution_count": null,
      "outputs": []
    },
    {
      "cell_type": "code",
      "metadata": {
        "id": "f4e46d90"
      },
      "source": [
        "wr.writerow(['Image', 'Answer'])\n",
        "for i in range(len(svc_predict)):\n",
        "  wr.writerow([i+1, svc_predict[i]+1])"
      ],
      "id": "f4e46d90",
      "execution_count": null,
      "outputs": []
    },
    {
      "cell_type": "code",
      "metadata": {
        "id": "312e1de9"
      },
      "source": [
        "f.close()"
      ],
      "id": "312e1de9",
      "execution_count": null,
      "outputs": []
    },
    {
      "cell_type": "markdown",
      "metadata": {
        "id": "AdDHnO3bUZbv"
      },
      "source": [
        "<h1> KNN Result </h1>"
      ],
      "id": "AdDHnO3bUZbv"
    },
    {
      "cell_type": "code",
      "metadata": {
        "id": "0oeZMCH6gbod"
      },
      "source": [
        "f = open(path + 'face_result_knn.csv', 'w', newline='')\n",
        "wr = csv.writer(f)"
      ],
      "id": "0oeZMCH6gbod",
      "execution_count": null,
      "outputs": []
    },
    {
      "cell_type": "code",
      "metadata": {
        "id": "JPNVh0YZgeTc"
      },
      "source": [
        "wr.writerow(['Image', 'Answer'])\n",
        "for i in range(len(knn_predict)):\n",
        "  wr.writerow([i+1, knn_predict[i]+1])"
      ],
      "id": "JPNVh0YZgeTc",
      "execution_count": null,
      "outputs": []
    },
    {
      "cell_type": "code",
      "metadata": {
        "id": "Xu2EaHtJgkLV"
      },
      "source": [
        "f.close()"
      ],
      "id": "Xu2EaHtJgkLV",
      "execution_count": null,
      "outputs": []
    }
  ]
}