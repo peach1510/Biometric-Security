{
  "nbformat": 4,
  "nbformat_minor": 5,
  "metadata": {
    "kernelspec": {
      "display_name": "cuda2",
      "language": "python",
      "name": "cuda2"
    },
    "language_info": {
      "codemirror_mode": {
        "name": "ipython",
        "version": 3
      },
      "file_extension": ".py",
      "mimetype": "text/x-python",
      "name": "python",
      "nbconvert_exporter": "python",
      "pygments_lexer": "ipython3",
      "version": "3.7.0"
    },
    "colab": {
      "name": "1871095_문수빈_홍채_2차_코드 (1).ipynb",
      "provenance": [],
      "collapsed_sections": []
    },
    "accelerator": "GPU"
  },
  "cells": [
    {
      "cell_type": "code",
      "metadata": {
        "id": "851e51f7"
      },
      "source": [
        "import tensorflow as tf"
      ],
      "id": "851e51f7",
      "execution_count": 1,
      "outputs": []
    },
    {
      "cell_type": "code",
      "metadata": {
        "colab": {
          "base_uri": "https://localhost:8080/"
        },
        "id": "069a8b95",
        "outputId": "f1a2c4d0-b8f2-4bfc-88af-dcfee3549bea"
      },
      "source": [
        "print(tf.__version__)\n",
        "tf.config.list_physical_devices('GPU')"
      ],
      "id": "069a8b95",
      "execution_count": 2,
      "outputs": [
        {
          "output_type": "stream",
          "text": [
            "2.5.0\n"
          ],
          "name": "stdout"
        },
        {
          "output_type": "execute_result",
          "data": {
            "text/plain": [
              "[PhysicalDevice(name='/physical_device:GPU:0', device_type='GPU')]"
            ]
          },
          "metadata": {
            "tags": []
          },
          "execution_count": 2
        }
      ]
    },
    {
      "cell_type": "code",
      "metadata": {
        "colab": {
          "base_uri": "https://localhost:8080/"
        },
        "id": "aF0K8RUrFd5I",
        "outputId": "c2830a5d-add0-42b1-9f1b-5a0aefe94760"
      },
      "source": [
        "from google.colab import drive\n",
        "drive.mount('/gdrive', force_remount=True)"
      ],
      "id": "aF0K8RUrFd5I",
      "execution_count": 3,
      "outputs": [
        {
          "output_type": "stream",
          "text": [
            "Mounted at /gdrive\n"
          ],
          "name": "stdout"
        }
      ]
    },
    {
      "cell_type": "code",
      "metadata": {
        "id": "DGjlmmBLJmSM"
      },
      "source": [
        "path = '/gdrive/My Drive/'"
      ],
      "id": "DGjlmmBLJmSM",
      "execution_count": 4,
      "outputs": []
    },
    {
      "cell_type": "markdown",
      "metadata": {
        "id": "RQTM7tlWP23P"
      },
      "source": [
        ""
      ],
      "id": "RQTM7tlWP23P"
    },
    {
      "cell_type": "markdown",
      "metadata": {
        "id": "GkxM3oUBMe6W"
      },
      "source": [
        "<h1> Load Module </h1>"
      ],
      "id": "GkxM3oUBMe6W"
    },
    {
      "cell_type": "code",
      "metadata": {
        "id": "23db36c7"
      },
      "source": [
        "from keras import models, layers, optimizers, utils\n",
        "from keras.layers import Dropout, Activation, Dense, BatchNormalization\n",
        "from keras.models import load_model"
      ],
      "id": "23db36c7",
      "execution_count": 5,
      "outputs": []
    },
    {
      "cell_type": "code",
      "metadata": {
        "id": "aca97b7a"
      },
      "source": [
        "import numpy as np\n",
        "import pandas as pd\n",
        "import matplotlib.pyplot as plt\n",
        "import keras\n",
        "from keras.preprocessing.image import load_img\n",
        "import random\n",
        "import cv2, os, sys\n",
        "from keras.preprocessing import image\n",
        "from PIL import Image"
      ],
      "id": "aca97b7a",
      "execution_count": 6,
      "outputs": []
    },
    {
      "cell_type": "code",
      "metadata": {
        "id": "23e5dae5"
      },
      "source": [
        "from keras.preprocessing.image import ImageDataGenerator, array_to_img, img_to_array\n",
        "from numpy import expand_dims"
      ],
      "id": "23e5dae5",
      "execution_count": 8,
      "outputs": []
    },
    {
      "cell_type": "markdown",
      "metadata": {
        "id": "61136cf5"
      },
      "source": [
        "<h1> Load Image </h1>"
      ],
      "id": "61136cf5"
    },
    {
      "cell_type": "code",
      "metadata": {
        "id": "78a2d4e8"
      },
      "source": [
        "# 이미지 크기 지정\n",
        "\n",
        "IMAGE_WIDTH = 192\n",
        "IMAGE_HEIGHT = 144"
      ],
      "id": "78a2d4e8",
      "execution_count": 9,
      "outputs": []
    },
    {
      "cell_type": "code",
      "metadata": {
        "id": "qKIb-eN-qbhW"
      },
      "source": [
        "# 트레이닝 데이터 파일을 정렬\n",
        "import natsort\n",
        "train_order = os.listdir(path+'03_iris_training')\n",
        "train_order = natsort.natsorted(train_order)"
      ],
      "id": "qKIb-eN-qbhW",
      "execution_count": 10,
      "outputs": []
    },
    {
      "cell_type": "code",
      "metadata": {
        "id": "jFMa20fwL3aH"
      },
      "source": [
        "# Image Augmentation 생성\n",
        "datagen = ImageDataGenerator(\n",
        "            width_shift_range = 0.01,\n",
        "            height_shift_range = 0.01,\n",
        "            horizontal_flip = True,\n",
        "            vertical_flip = True,\n",
        "            zoom_range = 0.05,\n",
        "            brightness_range=[1.0, 1.0])"
      ],
      "id": "jFMa20fwL3aH",
      "execution_count": 11,
      "outputs": []
    },
    {
      "cell_type": "code",
      "metadata": {
        "id": "kOUCkg8fIn7z"
      },
      "source": [
        "# 이미지를 64개의 카테고리로 분류\n",
        "nb_classes = 64\n",
        "\n",
        "data = []\n",
        "label= []\n",
        "\n",
        "for filename in train_order:\n",
        "    category = filename[:3]\n",
        "    imagePath = path + '/03_iris_training/' + filename\n",
        "    \n",
        "    image = cv2.imread(imagePath)\n",
        "    image = cv2.cvtColor(image, cv2.COLOR_BGR2RGB)\n",
        "    image = cv2.resize(image, (IMAGE_WIDTH, IMAGE_HEIGHT))\n",
        "    \n",
        "    data.append(image)\n",
        "    label.append(int(category)-1)\n",
        "    new_image = img_to_array(image)\n",
        "    samples = expand_dims(new_image, 0)\n",
        "    it= datagen.flow(samples, batch_size=1)\n",
        "\n",
        "    # 이미지를 10개씩 augmentation\n",
        "    for i in range(10):\n",
        "        batch = it.next()\n",
        "        image = batch[0].astype('uint8')\n",
        "        np_image = np.array(image)\n",
        "        data.append(np_image)\n",
        "\n",
        "        label.append(int(category)-1)"
      ],
      "id": "kOUCkg8fIn7z",
      "execution_count": 12,
      "outputs": []
    },
    {
      "cell_type": "code",
      "metadata": {
        "id": "1f3d7fc5"
      },
      "source": [
        "# 훈련데이터셋 형성\n",
        "train_data = [data, label]\n",
        "(X_data, Y_data) = (train_data[0], train_data[1])"
      ],
      "id": "1f3d7fc5",
      "execution_count": 13,
      "outputs": []
    },
    {
      "cell_type": "code",
      "metadata": {
        "id": "f6219aef"
      },
      "source": [
        "X_data = np.array(X_data)\n",
        "Y_data = np.array(Y_data)"
      ],
      "id": "f6219aef",
      "execution_count": 14,
      "outputs": []
    },
    {
      "cell_type": "code",
      "metadata": {
        "colab": {
          "base_uri": "https://localhost:8080/"
        },
        "id": "b6639736",
        "outputId": "73dd93a0-e064-41a9-f706-a07b8305cdd2"
      },
      "source": [
        "print(X_data.shape)\n",
        "print(Y_data.shape)"
      ],
      "id": "b6639736",
      "execution_count": 15,
      "outputs": [
        {
          "output_type": "stream",
          "text": [
            "(1408, 144, 192, 3)\n",
            "(1408,)\n"
          ],
          "name": "stdout"
        }
      ]
    },
    {
      "cell_type": "markdown",
      "metadata": {
        "id": "MJFyz0S9fDuO"
      },
      "source": [
        "<h1> Build Model </h1>"
      ],
      "id": "MJFyz0S9fDuO"
    },
    {
      "cell_type": "code",
      "metadata": {
        "id": "91kKZVdcE35a"
      },
      "source": [
        "from keras import utils as np_utils\n",
        "from keras.layers import Input, Dense\n",
        "from keras.applications.resnet_v2 import ResNet50V2\n",
        "\n",
        "from keras.layers import GlobalAveragePooling2D, BatchNormalization\n",
        "from keras.metrics import Precision, Recall\n",
        "from sklearn.metrics import accuracy_score, recall_score, precision_score, f1_score"
      ],
      "id": "91kKZVdcE35a",
      "execution_count": 16,
      "outputs": []
    },
    {
      "cell_type": "code",
      "metadata": {
        "id": "uiA5rpn_E2AO"
      },
      "source": [
        "from sklearn.model_selection import train_test_split\n",
        "from sklearn.model_selection import KFold\n",
        "from sklearn.model_selection import StratifiedKFold\n",
        "from tensorflow.keras.utils import to_categorical"
      ],
      "id": "uiA5rpn_E2AO",
      "execution_count": 17,
      "outputs": []
    },
    {
      "cell_type": "code",
      "metadata": {
        "id": "vpzLpfZXtR-d"
      },
      "source": [
        "# ResNet Pre-trained Model 사용\n",
        "\n",
        "def build_model():\n",
        "\n",
        "    input = Input(shape = (IMAGE_HEIGHT, IMAGE_WIDTH, 3))\n",
        "    base_model = ResNet50V2(include_top = False, weights = 'imagenet', input_tensor = input)\n",
        "\n",
        "    for layer in base_model.layers[:44]:\n",
        "      layer.trainable = False\n",
        "\n",
        "    X = base_model.output\n",
        "    X = BatchNormalization()(X)\n",
        "    X = GlobalAveragePooling2D()(X)\n",
        "    X = Dense(512, activation = 'relu')(X)\n",
        "    X = Dropout(0.5)(X)\n",
        "\n",
        "    Y = Dense(64, activation='softmax')(X)\n",
        "\n",
        "    model = tf.keras.Model(inputs = input, outputs = Y)\n",
        "\n",
        "    model.compile(loss='categorical_crossentropy', optimizer=tf.keras.optimizers.Adam(lr=0.0001), metrics=['accuracy',Precision(),Recall()])\n",
        "    model.summary()\n",
        "\n",
        "    return model"
      ],
      "id": "vpzLpfZXtR-d",
      "execution_count": 18,
      "outputs": []
    },
    {
      "cell_type": "code",
      "metadata": {
        "colab": {
          "base_uri": "https://localhost:8080/"
        },
        "id": "G5R377YGE5-S",
        "outputId": "ff242dde-cdd3-40de-b2d3-5ec288c484a5"
      },
      "source": [
        "model = build_model()\n",
        "model.summary()"
      ],
      "id": "G5R377YGE5-S",
      "execution_count": 19,
      "outputs": [
        {
          "output_type": "stream",
          "text": [
            "Downloading data from https://storage.googleapis.com/tensorflow/keras-applications/resnet/resnet50v2_weights_tf_dim_ordering_tf_kernels_notop.h5\n",
            "94674944/94668760 [==============================] - 1s 0us/step\n",
            "94683136/94668760 [==============================] - 1s 0us/step\n",
            "Model: \"model\"\n",
            "__________________________________________________________________________________________________\n",
            "Layer (type)                    Output Shape         Param #     Connected to                     \n",
            "==================================================================================================\n",
            "Total params: 24,654,912\n",
            "Trainable params: 24,346,432\n",
            "Non-trainable params: 308,480\n",
            "__________________________________________________________________________________________________\n",
            "Model: \"model\"\n",
            "__________________________________________________________________________________________________\n",
            "Layer (type)                    Output Shape         Param #     Connected to                     \n",
            "==================================================================================================\n",
            "Total params: 24,654,912\n",
            "Trainable params: 24,346,432\n",
            "Non-trainable params: 308,480\n",
            "__________________________________________________________________________________________________\n"
          ],
          "name": "stdout"
        },
        {
          "output_type": "stream",
          "text": [
            "/usr/local/lib/python3.7/dist-packages/tensorflow/python/keras/optimizer_v2/optimizer_v2.py:375: UserWarning: The `lr` argument is deprecated, use `learning_rate` instead.\n",
            "  \"The `lr` argument is deprecated, use `learning_rate` instead.\")\n"
          ],
          "name": "stderr"
        }
      ]
    },
    {
      "cell_type": "code",
      "metadata": {
        "id": "4qNaud3kE5Gf"
      },
      "source": [
        "# 이미지 훈련을 3회로 분할해 교차검증 진행\n",
        "skf = StratifiedKFold(n_splits=3)"
      ],
      "id": "4qNaud3kE5Gf",
      "execution_count": 22,
      "outputs": []
    },
    {
      "cell_type": "code",
      "metadata": {
        "colab": {
          "base_uri": "https://localhost:8080/"
        },
        "id": "fDazoQtGE65i",
        "outputId": "c82ed961-9bf5-4213-bb0f-4a514f7e708e"
      },
      "source": [
        "#모델을 사용한 훈련 진행\n",
        "\n",
        "all_history = []\n",
        "all_acc = []\n",
        "all_f1 = []\n",
        "all_recall = []\n",
        "all_precision = []\n",
        "\n",
        "for train_index, test_index in skf.split(X_data, Y_data):\n",
        "    X_train, X_test, Y_train, Y_test = train_test_split(X_data,\n",
        "                                                         Y_data,\n",
        "                                                         test_size = 0.3,\n",
        "                                                         random_state=10)\n",
        "    \n",
        "\n",
        "    X_train = np.array(X_train)\n",
        "    X_test = np.array(X_test)\n",
        "\n",
        "    X_train = X_train.astype('float32')\n",
        "    X_test = X_test.astype('float32')\n",
        "    Y_train = to_categorical(Y_train, nb_classes)\n",
        "    Y_test = to_categorical(Y_test, nb_classes)\n",
        "\n",
        "    X_train /= 255\n",
        "    X_test /= 255\n",
        "\n",
        "    history = model.fit(X_train, Y_train, epochs = 60, batch_size = 128, verbose = 1)\n",
        "    all_history.append(history.history)\n",
        "\n",
        "    Y_pred = model.predict(X_test)\n",
        "    Y_pred_binary = np.around(Y_pred)\n",
        "\n",
        "    acc = accuracy_score(Y_test, Y_pred_binary)\n",
        "    f1 = f1_score(Y_test, Y_pred_binary, average = 'micro')\n",
        "    recall = recall_score(Y_test, Y_pred_binary, average = 'micro')\n",
        "    precision = precision_score(Y_test, Y_pred_binary, average = 'micro')\n",
        "    \n",
        "    all_acc.append(acc)\n",
        "    all_f1.append(f1)\n",
        "    all_recall.append(recall)\n",
        "    all_precision.append(precision)"
      ],
      "id": "fDazoQtGE65i",
      "execution_count": 23,
      "outputs": [
        {
          "output_type": "stream",
          "text": [
            "Epoch 1/60\n",
            "8/8 [==============================] - 13s 2s/step - loss: 4.1819 - accuracy: 0.0234 - precision: 0.0000e+00 - recall: 0.0000e+00\n",
            "Epoch 2/60\n",
            "8/8 [==============================] - 8s 1s/step - loss: 3.8836 - accuracy: 0.0690 - precision: 0.0156 - recall: 5.9581e-05\n",
            "Epoch 3/60\n",
            "8/8 [==============================] - 8s 1s/step - loss: 3.4132 - accuracy: 0.1543 - precision: 0.4007 - recall: 0.0020\n",
            "Epoch 4/60\n",
            "8/8 [==============================] - 8s 1s/step - loss: 2.7545 - accuracy: 0.2975 - precision: 0.6589 - recall: 0.0111\n",
            "Epoch 5/60\n",
            "8/8 [==============================] - 8s 1s/step - loss: 1.6853 - accuracy: 0.5563 - precision: 0.7765 - recall: 0.0404\n",
            "Epoch 6/60\n",
            "8/8 [==============================] - 8s 1s/step - loss: 0.5860 - accuracy: 0.8284 - precision: 0.8907 - recall: 0.1234\n",
            "Epoch 7/60\n",
            "8/8 [==============================] - 8s 1s/step - loss: 0.4323 - accuracy: 0.8569 - precision: 0.8992 - recall: 0.2206\n",
            "Epoch 8/60\n",
            "8/8 [==============================] - 8s 1s/step - loss: 0.1504 - accuracy: 0.9624 - precision: 0.9175 - recall: 0.3081\n",
            "Epoch 9/60\n",
            "8/8 [==============================] - 8s 1s/step - loss: 0.0557 - accuracy: 0.9848 - precision: 0.9356 - recall: 0.3848\n",
            "Epoch 10/60\n",
            "8/8 [==============================] - 8s 1s/step - loss: 0.0296 - accuracy: 0.9888 - precision: 0.9474 - recall: 0.4468\n",
            "Epoch 11/60\n",
            "8/8 [==============================] - 8s 1s/step - loss: 0.0160 - accuracy: 0.9970 - precision: 0.9564 - recall: 0.4980\n",
            "Epoch 12/60\n",
            "8/8 [==============================] - 8s 1s/step - loss: 0.0078 - accuracy: 0.9980 - precision: 0.9628 - recall: 0.5408\n",
            "Epoch 13/60\n",
            "8/8 [==============================] - 8s 1s/step - loss: 0.0085 - accuracy: 0.9970 - precision: 0.9674 - recall: 0.5767\n",
            "Epoch 14/60\n",
            "8/8 [==============================] - 8s 1s/step - loss: 0.0055 - accuracy: 0.9990 - precision: 0.9709 - recall: 0.6075\n",
            "Epoch 15/60\n",
            "8/8 [==============================] - 8s 1s/step - loss: 0.0026 - accuracy: 1.0000 - precision: 0.9739 - recall: 0.6341\n",
            "Epoch 16/60\n",
            "8/8 [==============================] - 9s 1s/step - loss: 0.0014 - accuracy: 1.0000 - precision: 0.9764 - recall: 0.6574\n",
            "Epoch 17/60\n",
            "8/8 [==============================] - 8s 1s/step - loss: 3.1261e-04 - accuracy: 1.0000 - precision: 0.9784 - recall: 0.6780\n",
            "Epoch 18/60\n",
            "8/8 [==============================] - 8s 1s/step - loss: 3.9384e-04 - accuracy: 1.0000 - precision: 0.9801 - recall: 0.6961\n",
            "Epoch 19/60\n",
            "8/8 [==============================] - 8s 1s/step - loss: 1.3927e-04 - accuracy: 1.0000 - precision: 0.9816 - recall: 0.7124\n",
            "Epoch 20/60\n",
            "8/8 [==============================] - 9s 1s/step - loss: 9.5826e-05 - accuracy: 1.0000 - precision: 0.9829 - recall: 0.7270\n",
            "Epoch 21/60\n",
            "8/8 [==============================] - 8s 1s/step - loss: 6.7734e-05 - accuracy: 1.0000 - precision: 0.9840 - recall: 0.7402\n",
            "Epoch 22/60\n",
            "8/8 [==============================] - 8s 1s/step - loss: 5.1011e-05 - accuracy: 1.0000 - precision: 0.9849 - recall: 0.7522\n",
            "Epoch 23/60\n",
            "8/8 [==============================] - 8s 1s/step - loss: 4.2674e-05 - accuracy: 1.0000 - precision: 0.9858 - recall: 0.7631\n",
            "Epoch 24/60\n",
            "8/8 [==============================] - 8s 1s/step - loss: 3.7437e-05 - accuracy: 1.0000 - precision: 0.9866 - recall: 0.7731\n",
            "Epoch 25/60\n",
            "8/8 [==============================] - 8s 1s/step - loss: 3.3587e-05 - accuracy: 1.0000 - precision: 0.9872 - recall: 0.7823\n",
            "Epoch 26/60\n",
            "8/8 [==============================] - 8s 1s/step - loss: 3.0555e-05 - accuracy: 1.0000 - precision: 0.9879 - recall: 0.7907\n",
            "Epoch 27/60\n",
            "8/8 [==============================] - 8s 1s/step - loss: 2.7876e-05 - accuracy: 1.0000 - precision: 0.9884 - recall: 0.7986\n",
            "Epoch 28/60\n",
            "8/8 [==============================] - 8s 1s/step - loss: 2.5425e-05 - accuracy: 1.0000 - precision: 0.9889 - recall: 0.8058\n",
            "Epoch 29/60\n",
            "8/8 [==============================] - 8s 1s/step - loss: 2.3044e-05 - accuracy: 1.0000 - precision: 0.9894 - recall: 0.8126\n",
            "Epoch 30/60\n",
            "8/8 [==============================] - 8s 1s/step - loss: 2.0545e-05 - accuracy: 1.0000 - precision: 0.9898 - recall: 0.8189\n",
            "Epoch 31/60\n",
            "8/8 [==============================] - 8s 1s/step - loss: 1.7957e-05 - accuracy: 1.0000 - precision: 0.9902 - recall: 0.8248\n",
            "Epoch 32/60\n",
            "8/8 [==============================] - 9s 1s/step - loss: 1.5754e-05 - accuracy: 1.0000 - precision: 0.9906 - recall: 0.8303\n",
            "Epoch 33/60\n",
            "8/8 [==============================] - 8s 1s/step - loss: 1.3942e-05 - accuracy: 1.0000 - precision: 0.9909 - recall: 0.8355\n",
            "Epoch 34/60\n",
            "8/8 [==============================] - 8s 1s/step - loss: 1.2083e-05 - accuracy: 1.0000 - precision: 0.9913 - recall: 0.8404\n",
            "Epoch 35/60\n",
            "8/8 [==============================] - 8s 1s/step - loss: 1.0567e-05 - accuracy: 1.0000 - precision: 0.9916 - recall: 0.8450\n",
            "Epoch 36/60\n",
            "8/8 [==============================] - 8s 1s/step - loss: 9.2578e-06 - accuracy: 1.0000 - precision: 0.9918 - recall: 0.8493\n",
            "Epoch 37/60\n",
            "8/8 [==============================] - 8s 1s/step - loss: 8.0903e-06 - accuracy: 1.0000 - precision: 0.9921 - recall: 0.8534\n",
            "Epoch 38/60\n",
            "8/8 [==============================] - 8s 1s/step - loss: 7.1223e-06 - accuracy: 1.0000 - precision: 0.9923 - recall: 0.8573\n",
            "Epoch 39/60\n",
            "8/8 [==============================] - 8s 1s/step - loss: 6.2682e-06 - accuracy: 1.0000 - precision: 0.9926 - recall: 0.8610\n",
            "Epoch 40/60\n",
            "8/8 [==============================] - 9s 1s/step - loss: 5.5857e-06 - accuracy: 1.0000 - precision: 0.9928 - recall: 0.8645\n",
            "Epoch 41/60\n",
            "8/8 [==============================] - 8s 1s/step - loss: 5.0097e-06 - accuracy: 1.0000 - precision: 0.9930 - recall: 0.8678\n",
            "Epoch 42/60\n",
            "8/8 [==============================] - 8s 1s/step - loss: 4.5368e-06 - accuracy: 1.0000 - precision: 0.9932 - recall: 0.8710\n",
            "Epoch 43/60\n",
            "8/8 [==============================] - 8s 1s/step - loss: 4.1190e-06 - accuracy: 1.0000 - precision: 0.9934 - recall: 0.8740\n",
            "Epoch 44/60\n",
            "8/8 [==============================] - 8s 1s/step - loss: 3.7476e-06 - accuracy: 1.0000 - precision: 0.9935 - recall: 0.8769\n",
            "Epoch 45/60\n",
            "8/8 [==============================] - 8s 1s/step - loss: 3.4396e-06 - accuracy: 1.0000 - precision: 0.9937 - recall: 0.8797\n",
            "Epoch 46/60\n",
            "8/8 [==============================] - 8s 1s/step - loss: 3.1556e-06 - accuracy: 1.0000 - precision: 0.9938 - recall: 0.8823\n",
            "Epoch 47/60\n",
            "8/8 [==============================] - 8s 1s/step - loss: 2.9317e-06 - accuracy: 1.0000 - precision: 0.9940 - recall: 0.8848\n",
            "Epoch 48/60\n",
            "8/8 [==============================] - 8s 1s/step - loss: 2.7000e-06 - accuracy: 1.0000 - precision: 0.9941 - recall: 0.8872\n",
            "Epoch 49/60\n",
            "8/8 [==============================] - 8s 1s/step - loss: 2.5098e-06 - accuracy: 1.0000 - precision: 0.9943 - recall: 0.8896\n",
            "Epoch 50/60\n",
            "8/8 [==============================] - 8s 1s/step - loss: 2.3370e-06 - accuracy: 1.0000 - precision: 0.9944 - recall: 0.8918\n",
            "Epoch 51/60\n",
            "8/8 [==============================] - 8s 1s/step - loss: 2.1825e-06 - accuracy: 1.0000 - precision: 0.9945 - recall: 0.8939\n",
            "Epoch 52/60\n",
            "8/8 [==============================] - 8s 1s/step - loss: 2.0386e-06 - accuracy: 1.0000 - precision: 0.9946 - recall: 0.8960\n",
            "Epoch 53/60\n",
            "8/8 [==============================] - 8s 1s/step - loss: 1.9131e-06 - accuracy: 1.0000 - precision: 0.9948 - recall: 0.8979\n",
            "Epoch 54/60\n",
            "8/8 [==============================] - 8s 1s/step - loss: 1.7943e-06 - accuracy: 1.0000 - precision: 0.9949 - recall: 0.8998\n",
            "Epoch 55/60\n",
            "8/8 [==============================] - 8s 1s/step - loss: 1.6909e-06 - accuracy: 1.0000 - precision: 0.9950 - recall: 0.9017\n",
            "Epoch 56/60\n",
            "8/8 [==============================] - 8s 1s/step - loss: 1.5921e-06 - accuracy: 1.0000 - precision: 0.9951 - recall: 0.9034\n",
            "Epoch 57/60\n",
            "8/8 [==============================] - 8s 1s/step - loss: 1.5055e-06 - accuracy: 1.0000 - precision: 0.9952 - recall: 0.9051\n",
            "Epoch 58/60\n",
            "8/8 [==============================] - 8s 1s/step - loss: 1.4240e-06 - accuracy: 1.0000 - precision: 0.9953 - recall: 0.9068\n",
            "Epoch 59/60\n",
            "8/8 [==============================] - 8s 1s/step - loss: 1.3510e-06 - accuracy: 1.0000 - precision: 0.9953 - recall: 0.9084\n",
            "Epoch 60/60\n",
            "8/8 [==============================] - 8s 1s/step - loss: 1.2821e-06 - accuracy: 1.0000 - precision: 0.9954 - recall: 0.9099\n",
            "Epoch 1/60\n",
            "8/8 [==============================] - 8s 1s/step - loss: 1.2164e-06 - accuracy: 1.0000 - precision: 0.9955 - recall: 0.9114\n",
            "Epoch 2/60\n",
            "8/8 [==============================] - 9s 1s/step - loss: 1.1626e-06 - accuracy: 1.0000 - precision: 0.9956 - recall: 0.9128\n",
            "Epoch 3/60\n",
            "8/8 [==============================] - 8s 1s/step - loss: 1.1077e-06 - accuracy: 1.0000 - precision: 0.9957 - recall: 0.9142\n",
            "Epoch 4/60\n",
            "8/8 [==============================] - 8s 1s/step - loss: 1.0558e-06 - accuracy: 1.0000 - precision: 0.9957 - recall: 0.9156\n",
            "Epoch 5/60\n",
            "8/8 [==============================] - 8s 1s/step - loss: 1.0155e-06 - accuracy: 1.0000 - precision: 0.9958 - recall: 0.9169\n",
            "Epoch 6/60\n",
            "8/8 [==============================] - 9s 1s/step - loss: 9.7267e-07 - accuracy: 1.0000 - precision: 0.9959 - recall: 0.9181\n",
            "Epoch 7/60\n",
            "8/8 [==============================] - 9s 1s/step - loss: 9.3491e-07 - accuracy: 1.0000 - precision: 0.9959 - recall: 0.9194\n",
            "Epoch 8/60\n",
            "8/8 [==============================] - 8s 1s/step - loss: 8.9788e-07 - accuracy: 1.0000 - precision: 0.9960 - recall: 0.9205\n",
            "Epoch 9/60\n",
            "8/8 [==============================] - 8s 1s/step - loss: 8.6387e-07 - accuracy: 1.0000 - precision: 0.9961 - recall: 0.9217\n",
            "Epoch 10/60\n",
            "8/8 [==============================] - 9s 1s/step - loss: 8.2962e-07 - accuracy: 1.0000 - precision: 0.9961 - recall: 0.9228\n",
            "Epoch 11/60\n",
            "8/8 [==============================] - 8s 1s/step - loss: 8.0106e-07 - accuracy: 1.0000 - precision: 0.9962 - recall: 0.9239\n",
            "Epoch 12/60\n",
            "8/8 [==============================] - 8s 1s/step - loss: 7.7262e-07 - accuracy: 1.0000 - precision: 0.9962 - recall: 0.9250\n",
            "Epoch 13/60\n",
            "8/8 [==============================] - 8s 1s/step - loss: 7.4551e-07 - accuracy: 1.0000 - precision: 0.9963 - recall: 0.9260\n",
            "Epoch 14/60\n",
            "8/8 [==============================] - 8s 1s/step - loss: 7.1985e-07 - accuracy: 1.0000 - precision: 0.9964 - recall: 0.9270\n",
            "Epoch 15/60\n",
            "8/8 [==============================] - 8s 1s/step - loss: 6.9674e-07 - accuracy: 1.0000 - precision: 0.9964 - recall: 0.9280\n",
            "Epoch 16/60\n",
            "8/8 [==============================] - 8s 1s/step - loss: 6.7544e-07 - accuracy: 1.0000 - precision: 0.9965 - recall: 0.9289\n",
            "Epoch 17/60\n",
            "8/8 [==============================] - 8s 1s/step - loss: 6.5619e-07 - accuracy: 1.0000 - precision: 0.9965 - recall: 0.9299\n",
            "Epoch 18/60\n",
            "8/8 [==============================] - 9s 1s/step - loss: 6.3502e-07 - accuracy: 1.0000 - precision: 0.9966 - recall: 0.9308\n",
            "Epoch 19/60\n",
            "8/8 [==============================] - 8s 1s/step - loss: 6.1698e-07 - accuracy: 1.0000 - precision: 0.9966 - recall: 0.9317\n",
            "Epoch 20/60\n",
            "8/8 [==============================] - 8s 1s/step - loss: 5.9956e-07 - accuracy: 1.0000 - precision: 0.9967 - recall: 0.9325\n",
            "Epoch 21/60\n",
            "8/8 [==============================] - 8s 1s/step - loss: 5.8164e-07 - accuracy: 1.0000 - precision: 0.9967 - recall: 0.9333\n",
            "Epoch 22/60\n",
            "8/8 [==============================] - 8s 1s/step - loss: 5.6712e-07 - accuracy: 1.0000 - precision: 0.9967 - recall: 0.9342\n",
            "Epoch 23/60\n",
            "8/8 [==============================] - 8s 1s/step - loss: 5.5320e-07 - accuracy: 1.0000 - precision: 0.9968 - recall: 0.9350\n",
            "Epoch 24/60\n",
            "8/8 [==============================] - 8s 1s/step - loss: 5.3771e-07 - accuracy: 1.0000 - precision: 0.9968 - recall: 0.9357\n",
            "Epoch 25/60\n",
            "8/8 [==============================] - 8s 1s/step - loss: 5.2392e-07 - accuracy: 1.0000 - precision: 0.9969 - recall: 0.9365\n",
            "Epoch 26/60\n",
            "8/8 [==============================] - 9s 1s/step - loss: 5.0951e-07 - accuracy: 1.0000 - precision: 0.9969 - recall: 0.9372\n",
            "Epoch 27/60\n",
            "8/8 [==============================] - 8s 1s/step - loss: 4.9693e-07 - accuracy: 1.0000 - precision: 0.9969 - recall: 0.9380\n",
            "Epoch 28/60\n",
            "8/8 [==============================] - 8s 1s/step - loss: 4.8724e-07 - accuracy: 1.0000 - precision: 0.9970 - recall: 0.9387\n",
            "Epoch 29/60\n",
            "8/8 [==============================] - 8s 1s/step - loss: 4.7526e-07 - accuracy: 1.0000 - precision: 0.9970 - recall: 0.9394\n",
            "Epoch 30/60\n",
            "8/8 [==============================] - 8s 1s/step - loss: 4.6316e-07 - accuracy: 1.0000 - precision: 0.9970 - recall: 0.9400\n",
            "Epoch 31/60\n",
            "8/8 [==============================] - 8s 1s/step - loss: 4.5275e-07 - accuracy: 1.0000 - precision: 0.9971 - recall: 0.9407\n",
            "Epoch 32/60\n",
            "8/8 [==============================] - 9s 1s/step - loss: 4.4404e-07 - accuracy: 1.0000 - precision: 0.9971 - recall: 0.9413\n",
            "Epoch 33/60\n",
            "8/8 [==============================] - 8s 1s/step - loss: 4.3303e-07 - accuracy: 1.0000 - precision: 0.9971 - recall: 0.9420\n",
            "Epoch 34/60\n",
            "8/8 [==============================] - 8s 1s/step - loss: 4.2346e-07 - accuracy: 1.0000 - precision: 0.9972 - recall: 0.9426\n",
            "Epoch 35/60\n",
            "8/8 [==============================] - 8s 1s/step - loss: 4.1584e-07 - accuracy: 1.0000 - precision: 0.9972 - recall: 0.9432\n",
            "Epoch 36/60\n",
            "8/8 [==============================] - 8s 1s/step - loss: 4.0471e-07 - accuracy: 1.0000 - precision: 0.9972 - recall: 0.9438\n",
            "Epoch 37/60\n",
            "8/8 [==============================] - 8s 1s/step - loss: 3.9708e-07 - accuracy: 1.0000 - precision: 0.9973 - recall: 0.9444\n",
            "Epoch 38/60\n",
            "8/8 [==============================] - 8s 1s/step - loss: 3.8897e-07 - accuracy: 1.0000 - precision: 0.9973 - recall: 0.9449\n",
            "Epoch 39/60\n",
            "8/8 [==============================] - 8s 1s/step - loss: 3.8062e-07 - accuracy: 1.0000 - precision: 0.9973 - recall: 0.9455\n",
            "Epoch 40/60\n",
            "8/8 [==============================] - 8s 1s/step - loss: 3.7251e-07 - accuracy: 1.0000 - precision: 0.9974 - recall: 0.9460\n",
            "Epoch 41/60\n",
            "8/8 [==============================] - 8s 1s/step - loss: 3.6695e-07 - accuracy: 1.0000 - precision: 0.9974 - recall: 0.9466\n",
            "Epoch 42/60\n",
            "8/8 [==============================] - 8s 1s/step - loss: 3.5775e-07 - accuracy: 1.0000 - precision: 0.9974 - recall: 0.9471\n",
            "Epoch 43/60\n",
            "8/8 [==============================] - 8s 1s/step - loss: 3.5073e-07 - accuracy: 1.0000 - precision: 0.9974 - recall: 0.9476\n",
            "Epoch 44/60\n",
            "8/8 [==============================] - 8s 1s/step - loss: 3.4395e-07 - accuracy: 1.0000 - precision: 0.9975 - recall: 0.9481\n",
            "Epoch 45/60\n",
            "8/8 [==============================] - 8s 1s/step - loss: 3.3742e-07 - accuracy: 1.0000 - precision: 0.9975 - recall: 0.9486\n",
            "Epoch 46/60\n",
            "8/8 [==============================] - 9s 1s/step - loss: 3.2943e-07 - accuracy: 1.0000 - precision: 0.9975 - recall: 0.9491\n",
            "Epoch 47/60\n",
            "8/8 [==============================] - 8s 1s/step - loss: 3.2168e-07 - accuracy: 1.0000 - precision: 0.9975 - recall: 0.9496\n",
            "Epoch 48/60\n",
            "8/8 [==============================] - 8s 1s/step - loss: 3.1575e-07 - accuracy: 1.0000 - precision: 0.9976 - recall: 0.9501\n",
            "Epoch 49/60\n",
            "8/8 [==============================] - 8s 1s/step - loss: 3.0885e-07 - accuracy: 1.0000 - precision: 0.9976 - recall: 0.9505\n",
            "Epoch 50/60\n",
            "8/8 [==============================] - 8s 1s/step - loss: 3.0389e-07 - accuracy: 1.0000 - precision: 0.9976 - recall: 0.9510\n",
            "Epoch 51/60\n",
            "8/8 [==============================] - 8s 1s/step - loss: 2.9905e-07 - accuracy: 1.0000 - precision: 0.9976 - recall: 0.9514\n",
            "Epoch 52/60\n",
            "8/8 [==============================] - 8s 1s/step - loss: 2.9179e-07 - accuracy: 1.0000 - precision: 0.9977 - recall: 0.9518\n",
            "Epoch 53/60\n",
            "8/8 [==============================] - 8s 1s/step - loss: 2.8598e-07 - accuracy: 1.0000 - precision: 0.9977 - recall: 0.9523\n",
            "Epoch 54/60\n",
            "8/8 [==============================] - 8s 1s/step - loss: 2.8029e-07 - accuracy: 1.0000 - precision: 0.9977 - recall: 0.9527\n",
            "Epoch 55/60\n",
            "8/8 [==============================] - 8s 1s/step - loss: 2.7569e-07 - accuracy: 1.0000 - precision: 0.9977 - recall: 0.9531\n",
            "Epoch 56/60\n",
            "8/8 [==============================] - 8s 1s/step - loss: 2.7085e-07 - accuracy: 1.0000 - precision: 0.9977 - recall: 0.9535\n",
            "Epoch 57/60\n",
            "8/8 [==============================] - 8s 1s/step - loss: 2.6589e-07 - accuracy: 1.0000 - precision: 0.9978 - recall: 0.9539\n",
            "Epoch 58/60\n",
            "8/8 [==============================] - 9s 1s/step - loss: 2.6178e-07 - accuracy: 1.0000 - precision: 0.9978 - recall: 0.9543\n",
            "Epoch 59/60\n",
            "8/8 [==============================] - 8s 1s/step - loss: 2.5633e-07 - accuracy: 1.0000 - precision: 0.9978 - recall: 0.9547\n",
            "Epoch 60/60\n",
            "8/8 [==============================] - 8s 1s/step - loss: 2.5185e-07 - accuracy: 1.0000 - precision: 0.9978 - recall: 0.9551\n",
            "Epoch 1/60\n",
            "8/8 [==============================] - 8s 1s/step - loss: 2.4834e-07 - accuracy: 1.0000 - precision: 0.9978 - recall: 0.9554\n",
            "Epoch 2/60\n",
            "8/8 [==============================] - 9s 1s/step - loss: 2.4314e-07 - accuracy: 1.0000 - precision: 0.9979 - recall: 0.9558\n",
            "Epoch 3/60\n",
            "8/8 [==============================] - 9s 1s/step - loss: 2.3939e-07 - accuracy: 1.0000 - precision: 0.9979 - recall: 0.9562\n",
            "Epoch 4/60\n",
            "8/8 [==============================] - 9s 1s/step - loss: 2.3455e-07 - accuracy: 1.0000 - precision: 0.9979 - recall: 0.9565\n",
            "Epoch 5/60\n",
            "8/8 [==============================] - 9s 1s/step - loss: 2.3019e-07 - accuracy: 1.0000 - precision: 0.9979 - recall: 0.9569\n",
            "Epoch 6/60\n",
            "8/8 [==============================] - 9s 1s/step - loss: 2.2644e-07 - accuracy: 1.0000 - precision: 0.9979 - recall: 0.9572\n",
            "Epoch 7/60\n",
            "8/8 [==============================] - 9s 1s/step - loss: 2.2220e-07 - accuracy: 1.0000 - precision: 0.9979 - recall: 0.9575\n",
            "Epoch 8/60\n",
            "8/8 [==============================] - 8s 1s/step - loss: 2.1881e-07 - accuracy: 1.0000 - precision: 0.9980 - recall: 0.9579\n",
            "Epoch 9/60\n",
            "8/8 [==============================] - 8s 1s/step - loss: 2.1603e-07 - accuracy: 1.0000 - precision: 0.9980 - recall: 0.9582\n",
            "Epoch 10/60\n",
            "8/8 [==============================] - 9s 1s/step - loss: 2.1216e-07 - accuracy: 1.0000 - precision: 0.9980 - recall: 0.9585\n",
            "Epoch 11/60\n",
            "8/8 [==============================] - 8s 1s/step - loss: 2.0792e-07 - accuracy: 1.0000 - precision: 0.9980 - recall: 0.9588\n",
            "Epoch 12/60\n",
            "8/8 [==============================] - 8s 1s/step - loss: 2.0489e-07 - accuracy: 1.0000 - precision: 0.9980 - recall: 0.9592\n",
            "Epoch 13/60\n",
            "8/8 [==============================] - 8s 1s/step - loss: 2.0138e-07 - accuracy: 1.0000 - precision: 0.9980 - recall: 0.9595\n",
            "Epoch 14/60\n",
            "8/8 [==============================] - 9s 1s/step - loss: 1.9788e-07 - accuracy: 1.0000 - precision: 0.9981 - recall: 0.9598\n",
            "Epoch 15/60\n",
            "8/8 [==============================] - 8s 1s/step - loss: 1.9461e-07 - accuracy: 1.0000 - precision: 0.9981 - recall: 0.9601\n",
            "Epoch 16/60\n",
            "8/8 [==============================] - 8s 1s/step - loss: 1.8989e-07 - accuracy: 1.0000 - precision: 0.9981 - recall: 0.9604\n",
            "Epoch 17/60\n",
            "8/8 [==============================] - 8s 1s/step - loss: 1.8601e-07 - accuracy: 1.0000 - precision: 0.9981 - recall: 0.9606\n",
            "Epoch 18/60\n",
            "8/8 [==============================] - 8s 1s/step - loss: 1.8420e-07 - accuracy: 1.0000 - precision: 0.9981 - recall: 0.9609\n",
            "Epoch 19/60\n",
            "8/8 [==============================] - 8s 1s/step - loss: 1.8226e-07 - accuracy: 1.0000 - precision: 0.9981 - recall: 0.9612\n",
            "Epoch 20/60\n",
            "8/8 [==============================] - 8s 1s/step - loss: 1.7924e-07 - accuracy: 1.0000 - precision: 0.9981 - recall: 0.9615\n",
            "Epoch 21/60\n",
            "8/8 [==============================] - 8s 1s/step - loss: 1.7585e-07 - accuracy: 1.0000 - precision: 0.9982 - recall: 0.9618\n",
            "Epoch 22/60\n",
            "8/8 [==============================] - 8s 1s/step - loss: 1.7258e-07 - accuracy: 1.0000 - precision: 0.9982 - recall: 0.9620\n",
            "Epoch 23/60\n",
            "8/8 [==============================] - 8s 1s/step - loss: 1.7016e-07 - accuracy: 1.0000 - precision: 0.9982 - recall: 0.9623\n",
            "Epoch 24/60\n",
            "8/8 [==============================] - 8s 1s/step - loss: 1.6774e-07 - accuracy: 1.0000 - precision: 0.9982 - recall: 0.9626\n",
            "Epoch 25/60\n",
            "8/8 [==============================] - 8s 1s/step - loss: 1.6556e-07 - accuracy: 1.0000 - precision: 0.9982 - recall: 0.9628\n",
            "Epoch 26/60\n",
            "8/8 [==============================] - 9s 1s/step - loss: 1.6266e-07 - accuracy: 1.0000 - precision: 0.9982 - recall: 0.9631\n",
            "Epoch 27/60\n",
            "8/8 [==============================] - 8s 1s/step - loss: 1.5939e-07 - accuracy: 1.0000 - precision: 0.9982 - recall: 0.9633\n",
            "Epoch 28/60\n",
            "8/8 [==============================] - 8s 1s/step - loss: 1.5745e-07 - accuracy: 1.0000 - precision: 0.9982 - recall: 0.9636\n",
            "Epoch 29/60\n",
            "8/8 [==============================] - 8s 1s/step - loss: 1.5624e-07 - accuracy: 1.0000 - precision: 0.9983 - recall: 0.9638\n",
            "Epoch 30/60\n",
            "8/8 [==============================] - 8s 1s/step - loss: 1.5382e-07 - accuracy: 1.0000 - precision: 0.9983 - recall: 0.9641\n",
            "Epoch 31/60\n",
            "8/8 [==============================] - 8s 1s/step - loss: 1.5189e-07 - accuracy: 1.0000 - precision: 0.9983 - recall: 0.9643\n",
            "Epoch 32/60\n",
            "8/8 [==============================] - 8s 1s/step - loss: 1.4886e-07 - accuracy: 1.0000 - precision: 0.9983 - recall: 0.9645\n",
            "Epoch 33/60\n",
            "8/8 [==============================] - 8s 1s/step - loss: 1.4692e-07 - accuracy: 1.0000 - precision: 0.9983 - recall: 0.9648\n",
            "Epoch 34/60\n",
            "8/8 [==============================] - 8s 1s/step - loss: 1.4583e-07 - accuracy: 1.0000 - precision: 0.9983 - recall: 0.9650\n",
            "Epoch 35/60\n",
            "8/8 [==============================] - 8s 1s/step - loss: 1.4354e-07 - accuracy: 1.0000 - precision: 0.9983 - recall: 0.9652\n",
            "Epoch 36/60\n",
            "8/8 [==============================] - 8s 1s/step - loss: 1.4075e-07 - accuracy: 1.0000 - precision: 0.9983 - recall: 0.9655\n",
            "Epoch 37/60\n",
            "8/8 [==============================] - 8s 1s/step - loss: 1.3821e-07 - accuracy: 1.0000 - precision: 0.9984 - recall: 0.9657\n",
            "Epoch 38/60\n",
            "8/8 [==============================] - 8s 1s/step - loss: 1.3591e-07 - accuracy: 1.0000 - precision: 0.9984 - recall: 0.9659\n",
            "Epoch 39/60\n",
            "8/8 [==============================] - 8s 1s/step - loss: 1.3446e-07 - accuracy: 1.0000 - precision: 0.9984 - recall: 0.9661\n",
            "Epoch 40/60\n",
            "8/8 [==============================] - 8s 1s/step - loss: 1.3180e-07 - accuracy: 1.0000 - precision: 0.9984 - recall: 0.9663\n",
            "Epoch 41/60\n",
            "8/8 [==============================] - 8s 1s/step - loss: 1.2962e-07 - accuracy: 1.0000 - precision: 0.9984 - recall: 0.9665\n",
            "Epoch 42/60\n",
            "8/8 [==============================] - 8s 1s/step - loss: 1.2756e-07 - accuracy: 1.0000 - precision: 0.9984 - recall: 0.9667\n",
            "Epoch 43/60\n",
            "8/8 [==============================] - 8s 1s/step - loss: 1.2538e-07 - accuracy: 1.0000 - precision: 0.9984 - recall: 0.9669\n",
            "Epoch 44/60\n",
            "8/8 [==============================] - 9s 1s/step - loss: 1.2381e-07 - accuracy: 1.0000 - precision: 0.9984 - recall: 0.9671\n",
            "Epoch 45/60\n",
            "8/8 [==============================] - 8s 1s/step - loss: 1.2345e-07 - accuracy: 1.0000 - precision: 0.9984 - recall: 0.9673\n",
            "Epoch 46/60\n",
            "8/8 [==============================] - 9s 1s/step - loss: 1.2139e-07 - accuracy: 1.0000 - precision: 0.9984 - recall: 0.9675\n",
            "Epoch 47/60\n",
            "8/8 [==============================] - 8s 1s/step - loss: 1.1994e-07 - accuracy: 1.0000 - precision: 0.9985 - recall: 0.9677\n",
            "Epoch 48/60\n",
            "8/8 [==============================] - 8s 1s/step - loss: 1.1824e-07 - accuracy: 1.0000 - precision: 0.9985 - recall: 0.9679\n",
            "Epoch 49/60\n",
            "8/8 [==============================] - 9s 1s/step - loss: 1.1655e-07 - accuracy: 1.0000 - precision: 0.9985 - recall: 0.9681\n",
            "Epoch 50/60\n",
            "8/8 [==============================] - 9s 1s/step - loss: 1.1534e-07 - accuracy: 1.0000 - precision: 0.9985 - recall: 0.9683\n",
            "Epoch 51/60\n",
            "8/8 [==============================] - 8s 1s/step - loss: 1.1437e-07 - accuracy: 1.0000 - precision: 0.9985 - recall: 0.9685\n",
            "Epoch 52/60\n",
            "8/8 [==============================] - 8s 1s/step - loss: 1.1304e-07 - accuracy: 1.0000 - precision: 0.9985 - recall: 0.9687\n",
            "Epoch 53/60\n",
            "8/8 [==============================] - 9s 1s/step - loss: 1.1171e-07 - accuracy: 1.0000 - precision: 0.9985 - recall: 0.9689\n",
            "Epoch 54/60\n",
            "8/8 [==============================] - 9s 1s/step - loss: 1.1086e-07 - accuracy: 1.0000 - precision: 0.9985 - recall: 0.9690\n",
            "Epoch 55/60\n",
            "8/8 [==============================] - 8s 1s/step - loss: 1.0880e-07 - accuracy: 1.0000 - precision: 0.9985 - recall: 0.9692\n",
            "Epoch 56/60\n",
            "8/8 [==============================] - 8s 1s/step - loss: 1.0795e-07 - accuracy: 1.0000 - precision: 0.9985 - recall: 0.9694\n",
            "Epoch 57/60\n",
            "8/8 [==============================] - 8s 1s/step - loss: 1.0711e-07 - accuracy: 1.0000 - precision: 0.9985 - recall: 0.9696\n",
            "Epoch 58/60\n",
            "8/8 [==============================] - 9s 1s/step - loss: 1.0590e-07 - accuracy: 1.0000 - precision: 0.9986 - recall: 0.9697\n",
            "Epoch 59/60\n",
            "8/8 [==============================] - 8s 1s/step - loss: 1.0565e-07 - accuracy: 1.0000 - precision: 0.9986 - recall: 0.9699\n",
            "Epoch 60/60\n",
            "8/8 [==============================] - 8s 1s/step - loss: 1.0432e-07 - accuracy: 1.0000 - precision: 0.9986 - recall: 0.9701\n"
          ],
          "name": "stdout"
        }
      ]
    },
    {
      "cell_type": "code",
      "metadata": {
        "colab": {
          "base_uri": "https://localhost:8080/"
        },
        "id": "ZPMzWAVuS1lB",
        "outputId": "8142208a-fcb7-498e-8647-4b2bbefe9e1f"
      },
      "source": [
        "print('Average accuracy : ', sum(all_acc)/3)\n",
        "print('Average recall : ', sum(all_recall)/3)\n",
        "print('Average F1 score : ', sum(all_f1)/3)\n",
        "print('Average precision : ', sum(all_precision)/3)"
      ],
      "id": "ZPMzWAVuS1lB",
      "execution_count": 25,
      "outputs": [
        {
          "output_type": "stream",
          "text": [
            "Average accuracy :  0.9929078014184397\n",
            "Average recall :  0.9929078014184397\n",
            "Average F1 score :  0.9929078014184397\n",
            "Average precision :  0.9929078014184397\n"
          ],
          "name": "stdout"
        }
      ]
    },
    {
      "cell_type": "code",
      "metadata": {
        "colab": {
          "base_uri": "https://localhost:8080/"
        },
        "id": "6txkYGiNFAVk",
        "outputId": "16882326-ec4e-4431-ac28-372e881a21c3"
      },
      "source": [
        "score = model.evaluate(X_test, Y_test, verbose=0)\n",
        "print('Test score:', score[0])\n",
        "print('Test accuracy:', score[1])"
      ],
      "id": "6txkYGiNFAVk",
      "execution_count": 26,
      "outputs": [
        {
          "output_type": "stream",
          "text": [
            "Test score: 0.012952746823430061\n",
            "Test accuracy: 0.9929078221321106\n"
          ],
          "name": "stdout"
        }
      ]
    },
    {
      "cell_type": "markdown",
      "metadata": {
        "id": "2556bc9d"
      },
      "source": [
        "<h1> Test </h1>"
      ],
      "id": "2556bc9d"
    },
    {
      "cell_type": "code",
      "metadata": {
        "id": "vbDVjvRMh-TL"
      },
      "source": [
        "import pandas as pd"
      ],
      "id": "vbDVjvRMh-TL",
      "execution_count": 27,
      "outputs": []
    },
    {
      "cell_type": "code",
      "metadata": {
        "id": "61e4e7e3"
      },
      "source": [
        "# 테스트데이터 파일을 숫자 순으로 정렬\n",
        "import natsort\n",
        "order_list = os.listdir(path+'03_iris_test')\n",
        "order_list = natsort.natsorted(order_list)"
      ],
      "id": "61e4e7e3",
      "execution_count": 43,
      "outputs": []
    },
    {
      "cell_type": "code",
      "metadata": {
        "colab": {
          "base_uri": "https://localhost:8080/"
        },
        "id": "iTG2okBXqG-H",
        "outputId": "c67c1aa2-b186-4850-fc3f-ad8d0e6cd73a"
      },
      "source": [
        "print(order_list)"
      ],
      "id": "iTG2okBXqG-H",
      "execution_count": 45,
      "outputs": [
        {
          "output_type": "stream",
          "text": [
            "['1.png', '2.png', '3.png', '4.png', '5.png', '6.png', '7.png', '8.png', '9.png', '10.png', '11.png', '12.png', '13.png', '14.png', '15.png', '16.png', '17.png', '18.png', '19.png', '20.png', '21.png', '22.png', '23.png', '24.png', '25.png', '26.png', '27.png', '28.png', '29.png', '30.png', '31.png', '32.png', '33.png', '34.png', '35.png', '36.png', '37.png', '38.png', '39.png', '40.png', '41.png', '42.png', '43.png', '44.png', '45.png', '46.png', '47.png', '48.png', '49.png', '50.png', '51.png', '52.png', '53.png', '54.png', '55.png', '56.png', '57.png', '58.png', '59.png', '60.png', '61.png', '62.png', '63.png', '64.png', '65.png', '66.png', '67.png', '68.png', '69.png', '70.png', '71.png', '72.png', '73.png', '74.png', '75.png', '76.png', '77.png', '78.png', '79.png', '80.png', '81.png', '82.png', '83.png', '84.png', '85.png', '86.png', '87.png', '88.png', '89.png', '90.png', '91.png', '92.png', '93.png', '94.png', '95.png', '96.png', '97.png', '98.png', '99.png', '100.png', '101.png', '102.png', '103.png', '104.png', '105.png', '106.png', '107.png', '108.png', '109.png', '110.png', '111.png', '112.png', '113.png', '114.png', '115.png', '116.png', '117.png', '118.png', '119.png', '120.png', '121.png', '122.png', '123.png', '124.png', '125.png', '126.png', '127.png', '128.png', '129.png', '130.png', '131.png', '132.png', '133.png', '134.png', '135.png', '136.png', '137.png', '138.png', '139.png', '140.png', '141.png', '142.png', '143.png', '144.png', '145.png', '146.png', '147.png', '148.png', '149.png', '150.png', '151.png', '152.png', '153.png', '154.png', '155.png', '156.png', '157.png', '158.png', '159.png', '160.png', '161.png', '162.png', '163.png', '164.png', '165.png', '166.png', '167.png', '168.png', '169.png', '170.png', '171.png', '172.png', '173.png', '174.png', '175.png', '176.png', '177.png', '178.png', '179.png', '180.png', '181.png', '182.png', '183.png', '184.png', '185.png', '186.png', '187.png', '188.png', '189.png', '190.png', '191.png', '192.png', '193.png', '194.png', '195.png', '196.png', '197.png', '198.png', '199.png', '200.png', '201.png', '202.png', '203.png', '204.png', '205.png', '206.png', '207.png', '208.png', '209.png', '210.png', '211.png', '212.png', '213.png', '214.png', '215.png', '216.png', '217.png', '218.png', '219.png', '220.png', '221.png', '222.png', '223.png', '224.png', '225.png', '226.png', '227.png', '228.png', '229.png', '230.png', '231.png', '232.png', '233.png', '234.png', '235.png', '236.png', '237.png', '238.png', '239.png', '240.png', '241.png', '242.png', '243.png', '244.png', '245.png', '246.png', '247.png', '248.png', '249.png', '250.png', '251.png', '252.png', '253.png', '254.png', '255.png', '256.png']\n"
          ],
          "name": "stdout"
        }
      ]
    },
    {
      "cell_type": "code",
      "metadata": {
        "id": "YCa1g6-gYg4e"
      },
      "source": [
        "test_dataset = []\n",
        "tmp = []\n",
        "\n",
        "for filename in order_list:\n",
        "    imagePath = path + '/03_iris_test/' + filename\n",
        "    \n",
        "    image = cv2.imread(imagePath)\n",
        "    image = cv2.cvtColor(image, cv2.COLOR_BGR2RGB)\n",
        "    image = cv2.resize(image, (IMAGE_WIDTH, IMAGE_HEIGHT))\n",
        "   \n",
        "    tmp.append(filename)\n",
        "    test_dataset.append(image)"
      ],
      "id": "YCa1g6-gYg4e",
      "execution_count": 44,
      "outputs": []
    },
    {
      "cell_type": "code",
      "metadata": {
        "id": "HLYzlN5nfbID"
      },
      "source": [
        "test_dataset = np.array(test_dataset)\n",
        "test_dataset = test_dataset.astype('float32')\n",
        "test_dataset /= 255\n",
        "predict = model.predict(test_dataset).argmax(1)"
      ],
      "id": "HLYzlN5nfbID",
      "execution_count": 46,
      "outputs": []
    },
    {
      "cell_type": "markdown",
      "metadata": {
        "id": "AdDHnO3bUZbv"
      },
      "source": [
        "<h1> Result </h1>"
      ],
      "id": "AdDHnO3bUZbv"
    },
    {
      "cell_type": "code",
      "metadata": {
        "id": "HBjed2RWj_1u"
      },
      "source": [
        "result = pd.DataFrame({'Image':[],\n",
        "                 'Answer':[]})"
      ],
      "id": "HBjed2RWj_1u",
      "execution_count": 47,
      "outputs": []
    },
    {
      "cell_type": "code",
      "metadata": {
        "id": "JPNVh0YZgeTc"
      },
      "source": [
        "for i in range(len(predict)):\n",
        "  new_data = {'Image':int(i+1), 'Answer':int(predict[i])+1}\n",
        "  result = result.append(new_data, ignore_index = True)"
      ],
      "id": "JPNVh0YZgeTc",
      "execution_count": 48,
      "outputs": []
    },
    {
      "cell_type": "code",
      "metadata": {
        "colab": {
          "base_uri": "https://localhost:8080/",
          "height": 419
        },
        "id": "sobEo3ghi16v",
        "outputId": "0721b2d9-3a5d-46e6-802d-3f30e9ce1bd1"
      },
      "source": [
        "result"
      ],
      "id": "sobEo3ghi16v",
      "execution_count": 49,
      "outputs": [
        {
          "output_type": "execute_result",
          "data": {
            "text/html": [
              "<div>\n",
              "<style scoped>\n",
              "    .dataframe tbody tr th:only-of-type {\n",
              "        vertical-align: middle;\n",
              "    }\n",
              "\n",
              "    .dataframe tbody tr th {\n",
              "        vertical-align: top;\n",
              "    }\n",
              "\n",
              "    .dataframe thead th {\n",
              "        text-align: right;\n",
              "    }\n",
              "</style>\n",
              "<table border=\"1\" class=\"dataframe\">\n",
              "  <thead>\n",
              "    <tr style=\"text-align: right;\">\n",
              "      <th></th>\n",
              "      <th>Image</th>\n",
              "      <th>Answer</th>\n",
              "    </tr>\n",
              "  </thead>\n",
              "  <tbody>\n",
              "    <tr>\n",
              "      <th>0</th>\n",
              "      <td>1.0</td>\n",
              "      <td>46.0</td>\n",
              "    </tr>\n",
              "    <tr>\n",
              "      <th>1</th>\n",
              "      <td>2.0</td>\n",
              "      <td>59.0</td>\n",
              "    </tr>\n",
              "    <tr>\n",
              "      <th>2</th>\n",
              "      <td>3.0</td>\n",
              "      <td>26.0</td>\n",
              "    </tr>\n",
              "    <tr>\n",
              "      <th>3</th>\n",
              "      <td>4.0</td>\n",
              "      <td>46.0</td>\n",
              "    </tr>\n",
              "    <tr>\n",
              "      <th>4</th>\n",
              "      <td>5.0</td>\n",
              "      <td>51.0</td>\n",
              "    </tr>\n",
              "    <tr>\n",
              "      <th>...</th>\n",
              "      <td>...</td>\n",
              "      <td>...</td>\n",
              "    </tr>\n",
              "    <tr>\n",
              "      <th>251</th>\n",
              "      <td>252.0</td>\n",
              "      <td>21.0</td>\n",
              "    </tr>\n",
              "    <tr>\n",
              "      <th>252</th>\n",
              "      <td>253.0</td>\n",
              "      <td>14.0</td>\n",
              "    </tr>\n",
              "    <tr>\n",
              "      <th>253</th>\n",
              "      <td>254.0</td>\n",
              "      <td>26.0</td>\n",
              "    </tr>\n",
              "    <tr>\n",
              "      <th>254</th>\n",
              "      <td>255.0</td>\n",
              "      <td>45.0</td>\n",
              "    </tr>\n",
              "    <tr>\n",
              "      <th>255</th>\n",
              "      <td>256.0</td>\n",
              "      <td>16.0</td>\n",
              "    </tr>\n",
              "  </tbody>\n",
              "</table>\n",
              "<p>256 rows × 2 columns</p>\n",
              "</div>"
            ],
            "text/plain": [
              "     Image  Answer\n",
              "0      1.0    46.0\n",
              "1      2.0    59.0\n",
              "2      3.0    26.0\n",
              "3      4.0    46.0\n",
              "4      5.0    51.0\n",
              "..     ...     ...\n",
              "251  252.0    21.0\n",
              "252  253.0    14.0\n",
              "253  254.0    26.0\n",
              "254  255.0    45.0\n",
              "255  256.0    16.0\n",
              "\n",
              "[256 rows x 2 columns]"
            ]
          },
          "metadata": {
            "tags": []
          },
          "execution_count": 49
        }
      ]
    },
    {
      "cell_type": "code",
      "metadata": {
        "id": "W9n-j7hkjK3Y"
      },
      "source": [
        "result.to_csv('/gdrive/My Drive/iris_result.csv')"
      ],
      "id": "W9n-j7hkjK3Y",
      "execution_count": 50,
      "outputs": []
    }
  ]
}