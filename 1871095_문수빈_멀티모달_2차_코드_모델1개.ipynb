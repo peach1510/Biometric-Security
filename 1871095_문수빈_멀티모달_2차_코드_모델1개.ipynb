{
  "nbformat": 4,
  "nbformat_minor": 5,
  "metadata": {
    "kernelspec": {
      "display_name": "cuda2",
      "language": "python",
      "name": "cuda2"
    },
    "language_info": {
      "codemirror_mode": {
        "name": "ipython",
        "version": 3
      },
      "file_extension": ".py",
      "mimetype": "text/x-python",
      "name": "python",
      "nbconvert_exporter": "python",
      "pygments_lexer": "ipython3",
      "version": "3.7.0"
    },
    "colab": {
      "name": "187109555_문수빈_멀티모달_1차_코드_모델2개.ipynb",
      "provenance": [],
      "collapsed_sections": []
    },
    "accelerator": "GPU"
  },
  "cells": [
    {
      "cell_type": "code",
      "metadata": {
        "id": "851e51f7"
      },
      "source": [
        "import tensorflow as tf"
      ],
      "id": "851e51f7",
      "execution_count": 1,
      "outputs": []
    },
    {
      "cell_type": "code",
      "metadata": {
        "colab": {
          "base_uri": "https://localhost:8080/"
        },
        "id": "069a8b95",
        "outputId": "2aa36daa-4a05-490d-ce26-193d3c8d7eb6"
      },
      "source": [
        "print(tf.__version__)\n",
        "tf.config.list_physical_devices('GPU')"
      ],
      "id": "069a8b95",
      "execution_count": 2,
      "outputs": [
        {
          "output_type": "stream",
          "text": [
            "2.5.0\n"
          ],
          "name": "stdout"
        },
        {
          "output_type": "execute_result",
          "data": {
            "text/plain": [
              "[PhysicalDevice(name='/physical_device:GPU:0', device_type='GPU')]"
            ]
          },
          "metadata": {
            "tags": []
          },
          "execution_count": 2
        }
      ]
    },
    {
      "cell_type": "code",
      "metadata": {
        "colab": {
          "base_uri": "https://localhost:8080/"
        },
        "id": "aF0K8RUrFd5I",
        "outputId": "81549bb2-1350-4883-9702-3dcfa2e53b26"
      },
      "source": [
        "from google.colab import drive\n",
        "drive.mount('/gdrive', force_remount=True)"
      ],
      "id": "aF0K8RUrFd5I",
      "execution_count": 3,
      "outputs": [
        {
          "output_type": "stream",
          "text": [
            "Mounted at /gdrive\n"
          ],
          "name": "stdout"
        }
      ]
    },
    {
      "cell_type": "code",
      "metadata": {
        "id": "DGjlmmBLJmSM"
      },
      "source": [
        "path = '/gdrive/My Drive/'"
      ],
      "id": "DGjlmmBLJmSM",
      "execution_count": 4,
      "outputs": []
    },
    {
      "cell_type": "markdown",
      "metadata": {
        "id": "RQTM7tlWP23P"
      },
      "source": [
        ""
      ],
      "id": "RQTM7tlWP23P"
    },
    {
      "cell_type": "markdown",
      "metadata": {
        "id": "GkxM3oUBMe6W"
      },
      "source": [
        "<h1> Load Module </h1>"
      ],
      "id": "GkxM3oUBMe6W"
    },
    {
      "cell_type": "code",
      "metadata": {
        "id": "23db36c7"
      },
      "source": [
        "from keras import models, layers, optimizers, utils\n",
        "from keras.layers import Dropout, Activation, Dense, BatchNormalization\n",
        "from keras.models import load_model"
      ],
      "id": "23db36c7",
      "execution_count": 5,
      "outputs": []
    },
    {
      "cell_type": "code",
      "metadata": {
        "id": "aca97b7a"
      },
      "source": [
        "import numpy as np\n",
        "import pandas as pd\n",
        "import matplotlib.pyplot as plt\n",
        "import keras\n",
        "from keras.preprocessing.image import load_img\n",
        "import random\n",
        "import cv2, os, sys\n",
        "from keras.preprocessing import image\n",
        "from PIL import Image"
      ],
      "id": "aca97b7a",
      "execution_count": 6,
      "outputs": []
    },
    {
      "cell_type": "code",
      "metadata": {
        "id": "23e5dae5"
      },
      "source": [
        "from keras.preprocessing.image import ImageDataGenerator, array_to_img, img_to_array\n",
        "from numpy import expand_dims"
      ],
      "id": "23e5dae5",
      "execution_count": 7,
      "outputs": []
    },
    {
      "cell_type": "markdown",
      "metadata": {
        "id": "61136cf5"
      },
      "source": [
        "<h1> Load Image </h1>"
      ],
      "id": "61136cf5"
    },
    {
      "cell_type": "code",
      "metadata": {
        "id": "78a2d4e8"
      },
      "source": [
        "# 이미지 크기 지정\n",
        "\n",
        "IMAGE_WIDTH = 224\n",
        "IMAGE_HEIGHT = 224"
      ],
      "id": "78a2d4e8",
      "execution_count": 8,
      "outputs": []
    },
    {
      "cell_type": "code",
      "metadata": {
        "id": "qKIb-eN-qbhW"
      },
      "source": [
        "# 트레이닝 데이터 파일을 정렬\n",
        "import natsort\n",
        "train_order = os.listdir(path+'04_multimodal_training')\n",
        "train_order = natsort.natsorted(train_order)"
      ],
      "id": "qKIb-eN-qbhW",
      "execution_count": 9,
      "outputs": []
    },
    {
      "cell_type": "code",
      "metadata": {
        "id": "jFMa20fwL3aH"
      },
      "source": [
        "# Image Augmentation 생성\n",
        "datagen = ImageDataGenerator(\n",
        "            width_shift_range = 0.01,\n",
        "            height_shift_range = 0.01,\n",
        "            horizontal_flip = True,\n",
        "            vertical_flip = True,\n",
        "            zoom_range = 0.05,\n",
        "            brightness_range=[1.0, 1.0])"
      ],
      "id": "jFMa20fwL3aH",
      "execution_count": 10,
      "outputs": []
    },
    {
      "cell_type": "code",
      "metadata": {
        "id": "kOUCkg8fIn7z"
      },
      "source": [
        "# 이미지를 64개의 카테고리로 분류\n",
        "nb_classes = 64\n",
        "\n",
        "data = []\n",
        "label= []\n",
        "dtype = []\n",
        "\n",
        "for filename in train_order:\n",
        "    category = filename[:3]\n",
        "    imagePath = path + '/04_multimodal_training/' + filename\n",
        "    if filename[4:8] == 'face':\n",
        "      dtype.append('F')\n",
        "    elif filename[4:8] == 'iris':\n",
        "      dtype.append('I')\n",
        "\n",
        "    image = cv2.imread(imagePath)\n",
        "    image = cv2.cvtColor(image, cv2.COLOR_BGR2RGB)\n",
        "    image = cv2.resize(image, (IMAGE_WIDTH, IMAGE_HEIGHT))\n",
        "    \n",
        "    data.append(image)\n",
        "    label.append(int(category))\n",
        "    new_image = img_to_array(image)\n",
        "    samples = expand_dims(new_image, 0)\n",
        "    it= datagen.flow(samples, batch_size=1)\n",
        "\n",
        "    # 이미지를 15개씩 augmentation\n",
        "    for i in range(15):\n",
        "        batch = it.next()\n",
        "        image = batch[0].astype('uint8')\n",
        "        np_image = np.array(image)\n",
        "\n",
        "        data.append(np_image)\n",
        "        label.append(int(category))\n",
        "        \n",
        "        # 이미지의 종류에 따라 타입 설정\n",
        "        if filename[4:8] == 'face':\n",
        "          dtype.append('F')\n",
        "        elif filename[4:8] == 'iris':\n",
        "          dtype.append('I')"
      ],
      "id": "kOUCkg8fIn7z",
      "execution_count": 11,
      "outputs": []
    },
    {
      "cell_type": "code",
      "metadata": {
        "id": "1f3d7fc5"
      },
      "source": [
        "# iris와 face 각각 훈련데이터셋 형성\n",
        "\n",
        "face_X = []\n",
        "face_Y = []\n",
        "iris_X = []\n",
        "iris_Y = []\n",
        "\n",
        "for i in range((len(data))):\n",
        "  tmp = []\n",
        "  if dtype[i] == 'F':\n",
        "    face_X.append(data[i])\n",
        "    face_Y.append(label[i])\n",
        "  elif dtype[i] == 'I':\n",
        "    iris_X.append(data[i])\n",
        "    iris_Y.append(label[i])"
      ],
      "id": "1f3d7fc5",
      "execution_count": 12,
      "outputs": []
    },
    {
      "cell_type": "code",
      "metadata": {
        "id": "9rI2qQw-jpWC"
      },
      "source": [
        "# 두 데이터셋을 짝지어 하나로 합침\n",
        "\n",
        "train_X = []\n",
        "train_Y = []\n",
        "\n",
        "l = 0\n",
        "for i in range(len(face_X)):\n",
        "  data[i]\n",
        "  train_X.append(face_X[i]+iris_X[i])\n",
        "  train_Y.append(face_Y[i])"
      ],
      "id": "9rI2qQw-jpWC",
      "execution_count": 13,
      "outputs": []
    },
    {
      "cell_type": "markdown",
      "metadata": {
        "id": "MJFyz0S9fDuO"
      },
      "source": [
        "<h1> Build Iris Model </h1>"
      ],
      "id": "MJFyz0S9fDuO"
    },
    {
      "cell_type": "code",
      "metadata": {
        "id": "91kKZVdcE35a"
      },
      "source": [
        "from keras import utils as np_utils\n",
        "from keras.layers import Input, Dense\n",
        "from keras.applications.resnet_v2 import ResNet50V2\n",
        "\n",
        "from keras.layers import GlobalAveragePooling2D, BatchNormalization\n",
        "from keras.metrics import Precision, Recall\n",
        "from sklearn.metrics import accuracy_score, recall_score, precision_score, f1_score"
      ],
      "id": "91kKZVdcE35a",
      "execution_count": 14,
      "outputs": []
    },
    {
      "cell_type": "code",
      "metadata": {
        "id": "uiA5rpn_E2AO"
      },
      "source": [
        "from sklearn.model_selection import train_test_split\n",
        "from sklearn.model_selection import KFold\n",
        "from sklearn.model_selection import StratifiedKFold\n",
        "from tensorflow.keras.utils import to_categorical"
      ],
      "id": "uiA5rpn_E2AO",
      "execution_count": 15,
      "outputs": []
    },
    {
      "cell_type": "code",
      "metadata": {
        "id": "vpzLpfZXtR-d"
      },
      "source": [
        "# ResNet Pre-trained Model 사용\n",
        "\n",
        "def build_model():\n",
        "\n",
        "    input = Input(shape = (IMAGE_HEIGHT, IMAGE_WIDTH, 3))\n",
        "    base_model = ResNet50V2(include_top = False, weights = 'imagenet', input_tensor = input)\n",
        "\n",
        "    for layer in base_model.layers[:44]:\n",
        "      layer.trainable = False\n",
        "\n",
        "    X = base_model.output\n",
        "    X = BatchNormalization()(X)\n",
        "    X = GlobalAveragePooling2D()(X)\n",
        "    X = Dense(512, activation = 'relu')(X)\n",
        "    X = Dropout(0.5)(X)\n",
        "\n",
        "    Y = Dense(64, activation='softmax')(X)\n",
        "\n",
        "    model = tf.keras.Model(inputs = input, outputs = Y)\n",
        "\n",
        "    model.compile(loss='categorical_crossentropy', optimizer=tf.keras.optimizers.Adam(lr=0.0001), metrics=['accuracy',Precision(),Recall()])\n",
        "    model.summary()\n",
        "\n",
        "    return model"
      ],
      "id": "vpzLpfZXtR-d",
      "execution_count": 16,
      "outputs": []
    },
    {
      "cell_type": "code",
      "metadata": {
        "colab": {
          "base_uri": "https://localhost:8080/"
        },
        "id": "G5R377YGE5-S",
        "outputId": "865e2aa9-5cd1-48b1-f4ff-e180de6ea84b"
      },
      "source": [
        "model = build_model()\n",
        "model.summary()"
      ],
      "id": "G5R377YGE5-S",
      "execution_count": 17,
      "outputs": [
        {
          "output_type": "stream",
          "text": [
            "Downloading data from https://storage.googleapis.com/tensorflow/keras-applications/resnet/resnet50v2_weights_tf_dim_ordering_tf_kernels_notop.h5\n",
            "94674944/94668760 [==============================] - 1s 0us/step\n",
            "94683136/94668760 [==============================] - 1s 0us/step\n",
            "Model: \"model\"\n",
            "__________________________________________________________________________________________________\n",
            "Layer (type)                    Output Shape         Param #     Connected to                     \n",
            "==================================================================================================\n",
            "Total params: 24,654,912\n",
            "Trainable params: 24,346,432\n",
            "Non-trainable params: 308,480\n",
            "__________________________________________________________________________________________________\n",
            "Model: \"model\"\n",
            "__________________________________________________________________________________________________\n",
            "Layer (type)                    Output Shape         Param #     Connected to                     \n",
            "==================================================================================================\n",
            "Total params: 24,654,912\n",
            "Trainable params: 24,346,432\n",
            "Non-trainable params: 308,480\n",
            "__________________________________________________________________________________________________\n"
          ],
          "name": "stdout"
        },
        {
          "output_type": "stream",
          "text": [
            "/usr/local/lib/python3.7/dist-packages/tensorflow/python/keras/optimizer_v2/optimizer_v2.py:375: UserWarning: The `lr` argument is deprecated, use `learning_rate` instead.\n",
            "  \"The `lr` argument is deprecated, use `learning_rate` instead.\")\n"
          ],
          "name": "stderr"
        }
      ]
    },
    {
      "cell_type": "code",
      "metadata": {
        "id": "4qNaud3kE5Gf"
      },
      "source": [
        "# 이미지 훈련을 3회로 분할해 교차검증 진행\n",
        "skf = StratifiedKFold(n_splits=3)"
      ],
      "id": "4qNaud3kE5Gf",
      "execution_count": 18,
      "outputs": []
    },
    {
      "cell_type": "code",
      "metadata": {
        "colab": {
          "base_uri": "https://localhost:8080/"
        },
        "id": "fDazoQtGE65i",
        "outputId": "5f2172bd-cb0c-4fe5-d866-0fc41b51723d"
      },
      "source": [
        "#모델을 사용한 훈련 진행\n",
        "\n",
        "all_history = []\n",
        "all_acc = []\n",
        "all_f1 = []\n",
        "all_recall = []\n",
        "all_precision = []\n",
        "\n",
        "for train_index, test_index in skf.split(train_X, train_Y):\n",
        "    X_train, X_test, Y_train, Y_test = train_test_split(train_X,\n",
        "                                                         train_Y,\n",
        "                                                         test_size = 0.3,\n",
        "                                                         random_state=10)\n",
        "    \n",
        "\n",
        "    X_train = np.array(X_train)\n",
        "    X_test = np.array(X_test)\n",
        "\n",
        "    X_train = X_train.astype('float32')\n",
        "    X_test = X_test.astype('float32')\n",
        "    Y_train = to_categorical(Y_train, nb_classes)\n",
        "    Y_test = to_categorical(Y_test, nb_classes)\n",
        "\n",
        "    X_train /= 255\n",
        "    X_test /= 255\n",
        "\n",
        "    history = model.fit(X_train, Y_train, epochs = 60, batch_size = 128, verbose = 1)\n",
        "    all_history.append(history.history)\n",
        "\n",
        "    Y_pred = model.predict(X_test)\n",
        "    Y_pred_binary = np.around(Y_pred)\n",
        "\n",
        "    acc = accuracy_score(Y_test, Y_pred_binary)\n",
        "    f1 = f1_score(Y_test, Y_pred_binary, average = 'micro')\n",
        "    recall = recall_score(Y_test, Y_pred_binary, average = 'micro')\n",
        "    precision = precision_score(Y_test, Y_pred_binary, average = 'micro')\n",
        "    \n",
        "    all_acc.append(acc)\n",
        "    all_f1.append(f1)\n",
        "    all_recall.append(recall)\n",
        "    all_precision.append(precision)"
      ],
      "id": "fDazoQtGE65i",
      "execution_count": 19,
      "outputs": [
        {
          "output_type": "stream",
          "text": [
            "Epoch 1/60\n",
            "23/23 [==============================] - 63s 848ms/step - loss: 3.1762 - accuracy: 0.2525 - precision: 0.4648 - recall: 0.0144\n",
            "Epoch 2/60\n",
            "23/23 [==============================] - 17s 732ms/step - loss: 0.5543 - accuracy: 0.8409 - precision: 0.9041 - recall: 0.2730\n",
            "Epoch 3/60\n",
            "23/23 [==============================] - 17s 745ms/step - loss: 0.0831 - accuracy: 0.9791 - precision: 0.9428 - recall: 0.5282\n",
            "Epoch 4/60\n",
            "23/23 [==============================] - 17s 757ms/step - loss: 0.0373 - accuracy: 0.9892 - precision: 0.9621 - recall: 0.6588\n",
            "Epoch 5/60\n",
            "23/23 [==============================] - 18s 778ms/step - loss: 0.0241 - accuracy: 0.9948 - precision: 0.9707 - recall: 0.7321\n",
            "Epoch 6/60\n",
            "23/23 [==============================] - 18s 779ms/step - loss: 0.0917 - accuracy: 0.9850 - precision: 0.9757 - recall: 0.7790\n",
            "Epoch 7/60\n",
            "23/23 [==============================] - 18s 772ms/step - loss: 0.0063 - accuracy: 0.9997 - precision: 0.9790 - recall: 0.8115\n",
            "Epoch 8/60\n",
            "23/23 [==============================] - 18s 791ms/step - loss: 0.0013 - accuracy: 0.9993 - precision: 0.9823 - recall: 0.8366\n",
            "Epoch 9/60\n",
            "23/23 [==============================] - 19s 823ms/step - loss: 0.0013 - accuracy: 0.9993 - precision: 0.9846 - recall: 0.8557\n",
            "Epoch 10/60\n",
            "23/23 [==============================] - 19s 832ms/step - loss: 1.7217e-04 - accuracy: 1.0000 - precision: 0.9864 - recall: 0.8708\n",
            "Epoch 11/60\n",
            "23/23 [==============================] - 19s 807ms/step - loss: 7.6285e-05 - accuracy: 1.0000 - precision: 0.9878 - recall: 0.8831\n",
            "Epoch 12/60\n",
            "23/23 [==============================] - 18s 802ms/step - loss: 3.8990e-05 - accuracy: 1.0000 - precision: 0.9890 - recall: 0.8932\n",
            "Epoch 13/60\n",
            "23/23 [==============================] - 19s 811ms/step - loss: 3.1758e-05 - accuracy: 1.0000 - precision: 0.9899 - recall: 0.9018\n",
            "Epoch 14/60\n",
            "23/23 [==============================] - 19s 820ms/step - loss: 2.7531e-05 - accuracy: 1.0000 - precision: 0.9908 - recall: 0.9090\n",
            "Epoch 15/60\n",
            "23/23 [==============================] - 19s 819ms/step - loss: 2.4373e-05 - accuracy: 1.0000 - precision: 0.9914 - recall: 0.9153\n",
            "Epoch 16/60\n",
            "23/23 [==============================] - 19s 812ms/step - loss: 2.1750e-05 - accuracy: 1.0000 - precision: 0.9920 - recall: 0.9208\n",
            "Epoch 17/60\n",
            "23/23 [==============================] - 19s 811ms/step - loss: 1.9692e-05 - accuracy: 1.0000 - precision: 0.9926 - recall: 0.9256\n",
            "Epoch 18/60\n",
            "23/23 [==============================] - 19s 816ms/step - loss: 1.7932e-05 - accuracy: 1.0000 - precision: 0.9930 - recall: 0.9298\n",
            "Epoch 19/60\n",
            "23/23 [==============================] - 19s 816ms/step - loss: 1.6409e-05 - accuracy: 1.0000 - precision: 0.9934 - recall: 0.9336\n",
            "Epoch 20/60\n",
            "23/23 [==============================] - 19s 814ms/step - loss: 1.5128e-05 - accuracy: 1.0000 - precision: 0.9938 - recall: 0.9370\n",
            "Epoch 21/60\n",
            "23/23 [==============================] - 19s 811ms/step - loss: 1.3979e-05 - accuracy: 1.0000 - precision: 0.9941 - recall: 0.9401\n",
            "Epoch 22/60\n",
            "23/23 [==============================] - 19s 813ms/step - loss: 1.2986e-05 - accuracy: 1.0000 - precision: 0.9944 - recall: 0.9428\n",
            "Epoch 23/60\n",
            "23/23 [==============================] - 19s 815ms/step - loss: 1.2118e-05 - accuracy: 1.0000 - precision: 0.9946 - recall: 0.9454\n",
            "Epoch 24/60\n",
            "23/23 [==============================] - 19s 816ms/step - loss: 1.1331e-05 - accuracy: 1.0000 - precision: 0.9949 - recall: 0.9477\n",
            "Epoch 25/60\n",
            "23/23 [==============================] - 19s 818ms/step - loss: 1.0613e-05 - accuracy: 1.0000 - precision: 0.9951 - recall: 0.9498\n",
            "Epoch 26/60\n",
            "23/23 [==============================] - 19s 815ms/step - loss: 9.9739e-06 - accuracy: 1.0000 - precision: 0.9953 - recall: 0.9518\n",
            "Epoch 27/60\n",
            "23/23 [==============================] - 19s 815ms/step - loss: 9.3966e-06 - accuracy: 1.0000 - precision: 0.9955 - recall: 0.9536\n",
            "Epoch 28/60\n",
            "23/23 [==============================] - 19s 814ms/step - loss: 8.8546e-06 - accuracy: 1.0000 - precision: 0.9957 - recall: 0.9553\n",
            "Epoch 29/60\n",
            "23/23 [==============================] - 19s 812ms/step - loss: 8.3691e-06 - accuracy: 1.0000 - precision: 0.9958 - recall: 0.9569\n",
            "Epoch 30/60\n",
            "23/23 [==============================] - 19s 811ms/step - loss: 7.9405e-06 - accuracy: 1.0000 - precision: 0.9960 - recall: 0.9583\n",
            "Epoch 31/60\n",
            "23/23 [==============================] - 19s 814ms/step - loss: 7.5322e-06 - accuracy: 1.0000 - precision: 0.9961 - recall: 0.9597\n",
            "Epoch 32/60\n",
            "23/23 [==============================] - 19s 814ms/step - loss: 7.1580e-06 - accuracy: 1.0000 - precision: 0.9962 - recall: 0.9610\n",
            "Epoch 33/60\n",
            "23/23 [==============================] - 19s 815ms/step - loss: 6.8151e-06 - accuracy: 1.0000 - precision: 0.9963 - recall: 0.9622\n",
            "Epoch 34/60\n",
            "23/23 [==============================] - 19s 816ms/step - loss: 6.4996e-06 - accuracy: 1.0000 - precision: 0.9965 - recall: 0.9633\n",
            "Epoch 35/60\n",
            "23/23 [==============================] - 19s 814ms/step - loss: 6.2003e-06 - accuracy: 1.0000 - precision: 0.9966 - recall: 0.9644\n",
            "Epoch 36/60\n",
            "23/23 [==============================] - 19s 814ms/step - loss: 5.9277e-06 - accuracy: 1.0000 - precision: 0.9967 - recall: 0.9654\n",
            "Epoch 37/60\n",
            "23/23 [==============================] - 19s 814ms/step - loss: 5.6751e-06 - accuracy: 1.0000 - precision: 0.9968 - recall: 0.9663\n",
            "Epoch 38/60\n",
            "23/23 [==============================] - 19s 813ms/step - loss: 5.4301e-06 - accuracy: 1.0000 - precision: 0.9968 - recall: 0.9672\n",
            "Epoch 39/60\n",
            "23/23 [==============================] - 19s 813ms/step - loss: 5.1999e-06 - accuracy: 1.0000 - precision: 0.9969 - recall: 0.9681\n",
            "Epoch 40/60\n",
            "23/23 [==============================] - 19s 813ms/step - loss: 4.9874e-06 - accuracy: 1.0000 - precision: 0.9970 - recall: 0.9689\n",
            "Epoch 41/60\n",
            "23/23 [==============================] - 19s 813ms/step - loss: 4.7864e-06 - accuracy: 1.0000 - precision: 0.9971 - recall: 0.9696\n",
            "Epoch 42/60\n",
            "23/23 [==============================] - 19s 813ms/step - loss: 4.5974e-06 - accuracy: 1.0000 - precision: 0.9972 - recall: 0.9704\n",
            "Epoch 43/60\n",
            "23/23 [==============================] - 19s 815ms/step - loss: 4.4191e-06 - accuracy: 1.0000 - precision: 0.9972 - recall: 0.9711\n",
            "Epoch 44/60\n",
            "23/23 [==============================] - 19s 815ms/step - loss: 4.2506e-06 - accuracy: 1.0000 - precision: 0.9973 - recall: 0.9717\n",
            "Epoch 45/60\n",
            "23/23 [==============================] - 19s 816ms/step - loss: 4.0894e-06 - accuracy: 1.0000 - precision: 0.9974 - recall: 0.9724\n",
            "Epoch 46/60\n",
            "23/23 [==============================] - 19s 815ms/step - loss: 3.9402e-06 - accuracy: 1.0000 - precision: 0.9974 - recall: 0.9730\n",
            "Epoch 47/60\n",
            "23/23 [==============================] - 19s 817ms/step - loss: 3.7986e-06 - accuracy: 1.0000 - precision: 0.9975 - recall: 0.9736\n",
            "Epoch 48/60\n",
            "23/23 [==============================] - 19s 816ms/step - loss: 3.6654e-06 - accuracy: 1.0000 - precision: 0.9975 - recall: 0.9741\n",
            "Epoch 49/60\n",
            "23/23 [==============================] - 19s 816ms/step - loss: 3.5399e-06 - accuracy: 1.0000 - precision: 0.9976 - recall: 0.9746\n",
            "Epoch 50/60\n",
            "23/23 [==============================] - 19s 816ms/step - loss: 3.4181e-06 - accuracy: 1.0000 - precision: 0.9976 - recall: 0.9752\n",
            "Epoch 51/60\n",
            "23/23 [==============================] - 19s 816ms/step - loss: 3.3025e-06 - accuracy: 1.0000 - precision: 0.9977 - recall: 0.9756\n",
            "Epoch 52/60\n",
            "23/23 [==============================] - 19s 816ms/step - loss: 3.1922e-06 - accuracy: 1.0000 - precision: 0.9977 - recall: 0.9761\n",
            "Epoch 53/60\n",
            "23/23 [==============================] - 19s 816ms/step - loss: 3.0888e-06 - accuracy: 1.0000 - precision: 0.9978 - recall: 0.9766\n",
            "Epoch 54/60\n",
            "23/23 [==============================] - 19s 816ms/step - loss: 2.9901e-06 - accuracy: 1.0000 - precision: 0.9978 - recall: 0.9770\n",
            "Epoch 55/60\n",
            "23/23 [==============================] - 19s 817ms/step - loss: 2.8954e-06 - accuracy: 1.0000 - precision: 0.9979 - recall: 0.9774\n",
            "Epoch 56/60\n",
            "23/23 [==============================] - 19s 817ms/step - loss: 2.8045e-06 - accuracy: 1.0000 - precision: 0.9979 - recall: 0.9778\n",
            "Epoch 57/60\n",
            "23/23 [==============================] - 19s 817ms/step - loss: 2.7161e-06 - accuracy: 1.0000 - precision: 0.9979 - recall: 0.9782\n",
            "Epoch 58/60\n",
            "23/23 [==============================] - 19s 817ms/step - loss: 2.6328e-06 - accuracy: 1.0000 - precision: 0.9980 - recall: 0.9786\n",
            "Epoch 59/60\n",
            "23/23 [==============================] - 19s 815ms/step - loss: 2.5556e-06 - accuracy: 1.0000 - precision: 0.9980 - recall: 0.9790\n",
            "Epoch 60/60\n",
            "23/23 [==============================] - 19s 816ms/step - loss: 2.4808e-06 - accuracy: 1.0000 - precision: 0.9980 - recall: 0.9793\n",
            "Epoch 1/60\n",
            "23/23 [==============================] - 19s 813ms/step - loss: 2.4086e-06 - accuracy: 1.0000 - precision: 0.9981 - recall: 0.9797\n",
            "Epoch 2/60\n",
            "23/23 [==============================] - 19s 818ms/step - loss: 2.3364e-06 - accuracy: 1.0000 - precision: 0.9981 - recall: 0.9800\n",
            "Epoch 3/60\n",
            "23/23 [==============================] - 19s 817ms/step - loss: 2.2689e-06 - accuracy: 1.0000 - precision: 0.9981 - recall: 0.9803\n",
            "Epoch 4/60\n",
            "23/23 [==============================] - 19s 814ms/step - loss: 2.2047e-06 - accuracy: 1.0000 - precision: 0.9982 - recall: 0.9806\n",
            "Epoch 5/60\n",
            "23/23 [==============================] - 19s 814ms/step - loss: 2.1452e-06 - accuracy: 1.0000 - precision: 0.9982 - recall: 0.9809\n",
            "Epoch 6/60\n",
            "23/23 [==============================] - 19s 814ms/step - loss: 2.0855e-06 - accuracy: 1.0000 - precision: 0.9982 - recall: 0.9812\n",
            "Epoch 7/60\n",
            "23/23 [==============================] - 19s 817ms/step - loss: 2.0293e-06 - accuracy: 1.0000 - precision: 0.9982 - recall: 0.9815\n",
            "Epoch 8/60\n",
            "23/23 [==============================] - 19s 815ms/step - loss: 1.9742e-06 - accuracy: 1.0000 - precision: 0.9983 - recall: 0.9818\n",
            "Epoch 9/60\n",
            "23/23 [==============================] - 19s 815ms/step - loss: 1.9221e-06 - accuracy: 1.0000 - precision: 0.9983 - recall: 0.9820\n",
            "Epoch 10/60\n",
            "23/23 [==============================] - 19s 814ms/step - loss: 1.8723e-06 - accuracy: 1.0000 - precision: 0.9983 - recall: 0.9823\n",
            "Epoch 11/60\n",
            "23/23 [==============================] - 19s 813ms/step - loss: 1.8216e-06 - accuracy: 1.0000 - precision: 0.9983 - recall: 0.9826\n",
            "Epoch 12/60\n",
            "23/23 [==============================] - 19s 815ms/step - loss: 1.7752e-06 - accuracy: 1.0000 - precision: 0.9984 - recall: 0.9828\n",
            "Epoch 13/60\n",
            "23/23 [==============================] - 19s 816ms/step - loss: 1.7305e-06 - accuracy: 1.0000 - precision: 0.9984 - recall: 0.9830\n",
            "Epoch 14/60\n",
            "23/23 [==============================] - 19s 815ms/step - loss: 1.6858e-06 - accuracy: 1.0000 - precision: 0.9984 - recall: 0.9833\n",
            "Epoch 15/60\n",
            "23/23 [==============================] - 19s 815ms/step - loss: 1.6453e-06 - accuracy: 1.0000 - precision: 0.9984 - recall: 0.9835\n",
            "Epoch 16/60\n",
            "23/23 [==============================] - 19s 814ms/step - loss: 1.6032e-06 - accuracy: 1.0000 - precision: 0.9985 - recall: 0.9837\n",
            "Epoch 17/60\n",
            "23/23 [==============================] - 19s 816ms/step - loss: 1.5637e-06 - accuracy: 1.0000 - precision: 0.9985 - recall: 0.9839\n",
            "Epoch 18/60\n",
            "23/23 [==============================] - 19s 816ms/step - loss: 1.5242e-06 - accuracy: 1.0000 - precision: 0.9985 - recall: 0.9841\n",
            "Epoch 19/60\n",
            "23/23 [==============================] - 19s 817ms/step - loss: 1.4898e-06 - accuracy: 1.0000 - precision: 0.9985 - recall: 0.9843\n",
            "Epoch 20/60\n",
            "23/23 [==============================] - 19s 816ms/step - loss: 1.4545e-06 - accuracy: 1.0000 - precision: 0.9985 - recall: 0.9845\n",
            "Epoch 21/60\n",
            "23/23 [==============================] - 19s 816ms/step - loss: 1.4184e-06 - accuracy: 1.0000 - precision: 0.9986 - recall: 0.9847\n",
            "Epoch 22/60\n",
            "23/23 [==============================] - 19s 816ms/step - loss: 1.3855e-06 - accuracy: 1.0000 - precision: 0.9986 - recall: 0.9849\n",
            "Epoch 23/60\n",
            "23/23 [==============================] - 19s 817ms/step - loss: 1.3530e-06 - accuracy: 1.0000 - precision: 0.9986 - recall: 0.9851\n",
            "Epoch 24/60\n",
            "23/23 [==============================] - 19s 817ms/step - loss: 1.3216e-06 - accuracy: 1.0000 - precision: 0.9986 - recall: 0.9853\n",
            "Epoch 25/60\n",
            "23/23 [==============================] - 19s 816ms/step - loss: 1.2909e-06 - accuracy: 1.0000 - precision: 0.9986 - recall: 0.9854\n",
            "Epoch 26/60\n",
            "23/23 [==============================] - 19s 816ms/step - loss: 1.2621e-06 - accuracy: 1.0000 - precision: 0.9986 - recall: 0.9856\n",
            "Epoch 27/60\n",
            "23/23 [==============================] - 19s 816ms/step - loss: 1.2338e-06 - accuracy: 1.0000 - precision: 0.9987 - recall: 0.9858\n",
            "Epoch 28/60\n",
            "23/23 [==============================] - 19s 816ms/step - loss: 1.2057e-06 - accuracy: 1.0000 - precision: 0.9987 - recall: 0.9859\n",
            "Epoch 29/60\n",
            "23/23 [==============================] - 19s 815ms/step - loss: 1.1803e-06 - accuracy: 1.0000 - precision: 0.9987 - recall: 0.9861\n",
            "Epoch 30/60\n",
            "23/23 [==============================] - 19s 814ms/step - loss: 1.1534e-06 - accuracy: 1.0000 - precision: 0.9987 - recall: 0.9863\n",
            "Epoch 31/60\n",
            "23/23 [==============================] - 19s 816ms/step - loss: 1.1289e-06 - accuracy: 1.0000 - precision: 0.9987 - recall: 0.9864\n",
            "Epoch 32/60\n",
            "23/23 [==============================] - 19s 814ms/step - loss: 1.1042e-06 - accuracy: 1.0000 - precision: 0.9987 - recall: 0.9866\n",
            "Epoch 33/60\n",
            "23/23 [==============================] - 19s 814ms/step - loss: 1.0809e-06 - accuracy: 1.0000 - precision: 0.9987 - recall: 0.9867\n",
            "Epoch 34/60\n",
            "23/23 [==============================] - 19s 815ms/step - loss: 1.0565e-06 - accuracy: 1.0000 - precision: 0.9988 - recall: 0.9868\n",
            "Epoch 35/60\n",
            "23/23 [==============================] - 19s 816ms/step - loss: 1.0335e-06 - accuracy: 1.0000 - precision: 0.9988 - recall: 0.9870\n",
            "Epoch 36/60\n",
            "23/23 [==============================] - 19s 814ms/step - loss: 1.0127e-06 - accuracy: 1.0000 - precision: 0.9988 - recall: 0.9871\n",
            "Epoch 37/60\n",
            "23/23 [==============================] - 19s 814ms/step - loss: 9.9076e-07 - accuracy: 1.0000 - precision: 0.9988 - recall: 0.9873\n",
            "Epoch 38/60\n",
            "23/23 [==============================] - 19s 813ms/step - loss: 9.7055e-07 - accuracy: 1.0000 - precision: 0.9988 - recall: 0.9874\n",
            "Epoch 39/60\n",
            "23/23 [==============================] - 19s 818ms/step - loss: 9.4997e-07 - accuracy: 1.0000 - precision: 0.9988 - recall: 0.9875\n",
            "Epoch 40/60\n",
            "23/23 [==============================] - 19s 816ms/step - loss: 9.3055e-07 - accuracy: 1.0000 - precision: 0.9988 - recall: 0.9876\n",
            "Epoch 41/60\n",
            "23/23 [==============================] - 19s 814ms/step - loss: 9.1188e-07 - accuracy: 1.0000 - precision: 0.9988 - recall: 0.9878\n",
            "Epoch 42/60\n",
            "23/23 [==============================] - 19s 814ms/step - loss: 8.9296e-07 - accuracy: 1.0000 - precision: 0.9989 - recall: 0.9879\n",
            "Epoch 43/60\n",
            "23/23 [==============================] - 19s 814ms/step - loss: 8.7621e-07 - accuracy: 1.0000 - precision: 0.9989 - recall: 0.9880\n",
            "Epoch 44/60\n",
            "23/23 [==============================] - 19s 815ms/step - loss: 8.5825e-07 - accuracy: 1.0000 - precision: 0.9989 - recall: 0.9881\n",
            "Epoch 45/60\n",
            "23/23 [==============================] - 19s 815ms/step - loss: 8.4062e-07 - accuracy: 1.0000 - precision: 0.9989 - recall: 0.9882\n",
            "Epoch 46/60\n",
            "23/23 [==============================] - 19s 816ms/step - loss: 8.2415e-07 - accuracy: 1.0000 - precision: 0.9989 - recall: 0.9883\n",
            "Epoch 47/60\n",
            "23/23 [==============================] - 19s 818ms/step - loss: 8.0793e-07 - accuracy: 1.0000 - precision: 0.9989 - recall: 0.9884\n",
            "Epoch 48/60\n",
            "23/23 [==============================] - 19s 818ms/step - loss: 7.9151e-07 - accuracy: 1.0000 - precision: 0.9989 - recall: 0.9886\n",
            "Epoch 49/60\n",
            "23/23 [==============================] - 19s 816ms/step - loss: 7.7629e-07 - accuracy: 1.0000 - precision: 0.9989 - recall: 0.9887\n",
            "Epoch 50/60\n",
            "23/23 [==============================] - 19s 816ms/step - loss: 7.6062e-07 - accuracy: 1.0000 - precision: 0.9989 - recall: 0.9888\n",
            "Epoch 51/60\n",
            "23/23 [==============================] - 19s 816ms/step - loss: 7.4586e-07 - accuracy: 1.0000 - precision: 0.9990 - recall: 0.9889\n",
            "Epoch 52/60\n",
            "23/23 [==============================] - 19s 815ms/step - loss: 7.3135e-07 - accuracy: 1.0000 - precision: 0.9990 - recall: 0.9890\n",
            "Epoch 53/60\n",
            "23/23 [==============================] - 19s 814ms/step - loss: 7.1754e-07 - accuracy: 1.0000 - precision: 0.9990 - recall: 0.9891\n",
            "Epoch 54/60\n",
            "23/23 [==============================] - 19s 816ms/step - loss: 7.0461e-07 - accuracy: 1.0000 - precision: 0.9990 - recall: 0.9892\n",
            "Epoch 55/60\n",
            "23/23 [==============================] - 19s 818ms/step - loss: 6.9085e-07 - accuracy: 1.0000 - precision: 0.9990 - recall: 0.9893\n",
            "Epoch 56/60\n",
            "23/23 [==============================] - 19s 817ms/step - loss: 6.7758e-07 - accuracy: 1.0000 - precision: 0.9990 - recall: 0.9893\n",
            "Epoch 57/60\n",
            "23/23 [==============================] - 19s 816ms/step - loss: 6.6399e-07 - accuracy: 1.0000 - precision: 0.9990 - recall: 0.9894\n",
            "Epoch 58/60\n",
            "23/23 [==============================] - 19s 816ms/step - loss: 6.5313e-07 - accuracy: 1.0000 - precision: 0.9990 - recall: 0.9895\n",
            "Epoch 59/60\n",
            "23/23 [==============================] - 19s 815ms/step - loss: 6.4024e-07 - accuracy: 1.0000 - precision: 0.9990 - recall: 0.9896\n",
            "Epoch 60/60\n",
            "23/23 [==============================] - 19s 815ms/step - loss: 6.2864e-07 - accuracy: 1.0000 - precision: 0.9990 - recall: 0.9897\n",
            "Epoch 1/60\n",
            "23/23 [==============================] - 19s 818ms/step - loss: 6.1679e-07 - accuracy: 1.0000 - precision: 0.9990 - recall: 0.9898\n",
            "Epoch 2/60\n",
            "23/23 [==============================] - 19s 846ms/step - loss: 6.0503e-07 - accuracy: 1.0000 - precision: 0.9990 - recall: 0.9899\n",
            "Epoch 3/60\n",
            "23/23 [==============================] - 19s 819ms/step - loss: 5.9422e-07 - accuracy: 1.0000 - precision: 0.9991 - recall: 0.9900\n",
            "Epoch 4/60\n",
            "23/23 [==============================] - 18s 803ms/step - loss: 5.8436e-07 - accuracy: 1.0000 - precision: 0.9991 - recall: 0.9900\n",
            "Epoch 5/60\n",
            "23/23 [==============================] - 19s 806ms/step - loss: 5.7417e-07 - accuracy: 1.0000 - precision: 0.9991 - recall: 0.9901\n",
            "Epoch 6/60\n",
            "23/23 [==============================] - 19s 822ms/step - loss: 5.6365e-07 - accuracy: 1.0000 - precision: 0.9991 - recall: 0.9902\n",
            "Epoch 7/60\n",
            "23/23 [==============================] - 19s 822ms/step - loss: 5.5430e-07 - accuracy: 1.0000 - precision: 0.9991 - recall: 0.9903\n",
            "Epoch 8/60\n",
            "23/23 [==============================] - 19s 815ms/step - loss: 5.4395e-07 - accuracy: 1.0000 - precision: 0.9991 - recall: 0.9904\n",
            "Epoch 9/60\n",
            "23/23 [==============================] - 19s 812ms/step - loss: 5.3405e-07 - accuracy: 1.0000 - precision: 0.9991 - recall: 0.9904\n",
            "Epoch 10/60\n",
            "23/23 [==============================] - 19s 816ms/step - loss: 5.2528e-07 - accuracy: 1.0000 - precision: 0.9991 - recall: 0.9905\n",
            "Epoch 11/60\n",
            "23/23 [==============================] - 19s 818ms/step - loss: 5.1600e-07 - accuracy: 1.0000 - precision: 0.9991 - recall: 0.9906\n",
            "Epoch 12/60\n",
            "23/23 [==============================] - 19s 815ms/step - loss: 5.0694e-07 - accuracy: 1.0000 - precision: 0.9991 - recall: 0.9906\n",
            "Epoch 13/60\n",
            "23/23 [==============================] - 19s 813ms/step - loss: 4.9808e-07 - accuracy: 1.0000 - precision: 0.9991 - recall: 0.9907\n",
            "Epoch 14/60\n",
            "23/23 [==============================] - 19s 812ms/step - loss: 4.9022e-07 - accuracy: 1.0000 - precision: 0.9991 - recall: 0.9908\n",
            "Epoch 15/60\n",
            "23/23 [==============================] - 19s 814ms/step - loss: 4.8129e-07 - accuracy: 1.0000 - precision: 0.9991 - recall: 0.9909\n",
            "Epoch 16/60\n",
            "23/23 [==============================] - 19s 817ms/step - loss: 4.7334e-07 - accuracy: 1.0000 - precision: 0.9991 - recall: 0.9909\n",
            "Epoch 17/60\n",
            "23/23 [==============================] - 19s 818ms/step - loss: 4.6628e-07 - accuracy: 1.0000 - precision: 0.9992 - recall: 0.9910\n",
            "Epoch 18/60\n",
            "23/23 [==============================] - 19s 818ms/step - loss: 4.5767e-07 - accuracy: 1.0000 - precision: 0.9992 - recall: 0.9911\n",
            "Epoch 19/60\n",
            "23/23 [==============================] - 19s 817ms/step - loss: 4.5027e-07 - accuracy: 1.0000 - precision: 0.9992 - recall: 0.9911\n",
            "Epoch 20/60\n",
            "23/23 [==============================] - 19s 816ms/step - loss: 4.4299e-07 - accuracy: 1.0000 - precision: 0.9992 - recall: 0.9912\n",
            "Epoch 21/60\n",
            "23/23 [==============================] - 19s 815ms/step - loss: 4.3509e-07 - accuracy: 1.0000 - precision: 0.9992 - recall: 0.9912\n",
            "Epoch 22/60\n",
            "23/23 [==============================] - 19s 816ms/step - loss: 4.2806e-07 - accuracy: 1.0000 - precision: 0.9992 - recall: 0.9913\n",
            "Epoch 23/60\n",
            "23/23 [==============================] - 19s 817ms/step - loss: 4.2045e-07 - accuracy: 1.0000 - precision: 0.9992 - recall: 0.9914\n",
            "Epoch 24/60\n",
            "23/23 [==============================] - 19s 815ms/step - loss: 4.1351e-07 - accuracy: 1.0000 - precision: 0.9992 - recall: 0.9914\n",
            "Epoch 25/60\n",
            "23/23 [==============================] - 19s 816ms/step - loss: 4.0648e-07 - accuracy: 1.0000 - precision: 0.9992 - recall: 0.9915\n",
            "Epoch 26/60\n",
            "23/23 [==============================] - 19s 816ms/step - loss: 3.9966e-07 - accuracy: 1.0000 - precision: 0.9992 - recall: 0.9915\n",
            "Epoch 27/60\n",
            "23/23 [==============================] - 19s 816ms/step - loss: 3.9339e-07 - accuracy: 1.0000 - precision: 0.9992 - recall: 0.9916\n",
            "Epoch 28/60\n",
            "23/23 [==============================] - 19s 814ms/step - loss: 3.8723e-07 - accuracy: 1.0000 - precision: 0.9992 - recall: 0.9917\n",
            "Epoch 29/60\n",
            "23/23 [==============================] - 19s 816ms/step - loss: 3.8058e-07 - accuracy: 1.0000 - precision: 0.9992 - recall: 0.9917\n",
            "Epoch 30/60\n",
            "23/23 [==============================] - 19s 815ms/step - loss: 3.7551e-07 - accuracy: 1.0000 - precision: 0.9992 - recall: 0.9918\n",
            "Epoch 31/60\n",
            "23/23 [==============================] - 19s 816ms/step - loss: 3.6856e-07 - accuracy: 1.0000 - precision: 0.9992 - recall: 0.9918\n",
            "Epoch 32/60\n",
            "23/23 [==============================] - 19s 816ms/step - loss: 3.6262e-07 - accuracy: 1.0000 - precision: 0.9992 - recall: 0.9919\n",
            "Epoch 33/60\n",
            "23/23 [==============================] - 19s 817ms/step - loss: 3.5754e-07 - accuracy: 1.0000 - precision: 0.9992 - recall: 0.9919\n",
            "Epoch 34/60\n",
            "23/23 [==============================] - 19s 818ms/step - loss: 3.5122e-07 - accuracy: 1.0000 - precision: 0.9992 - recall: 0.9920\n",
            "Epoch 35/60\n",
            "23/23 [==============================] - 19s 819ms/step - loss: 3.4607e-07 - accuracy: 1.0000 - precision: 0.9993 - recall: 0.9920\n",
            "Epoch 36/60\n",
            "23/23 [==============================] - 19s 818ms/step - loss: 3.4054e-07 - accuracy: 1.0000 - precision: 0.9993 - recall: 0.9921\n",
            "Epoch 37/60\n",
            "23/23 [==============================] - 19s 815ms/step - loss: 3.3513e-07 - accuracy: 1.0000 - precision: 0.9993 - recall: 0.9921\n",
            "Epoch 38/60\n",
            "23/23 [==============================] - 19s 814ms/step - loss: 3.2890e-07 - accuracy: 1.0000 - precision: 0.9993 - recall: 0.9922\n",
            "Epoch 39/60\n",
            "23/23 [==============================] - 19s 814ms/step - loss: 3.2411e-07 - accuracy: 1.0000 - precision: 0.9993 - recall: 0.9922\n",
            "Epoch 40/60\n",
            "23/23 [==============================] - 19s 815ms/step - loss: 3.1871e-07 - accuracy: 1.0000 - precision: 0.9993 - recall: 0.9923\n",
            "Epoch 41/60\n",
            "23/23 [==============================] - 19s 814ms/step - loss: 3.1447e-07 - accuracy: 1.0000 - precision: 0.9993 - recall: 0.9923\n",
            "Epoch 42/60\n",
            "23/23 [==============================] - 19s 815ms/step - loss: 3.1006e-07 - accuracy: 1.0000 - precision: 0.9993 - recall: 0.9924\n",
            "Epoch 43/60\n",
            "23/23 [==============================] - 19s 816ms/step - loss: 3.0499e-07 - accuracy: 1.0000 - precision: 0.9993 - recall: 0.9924\n",
            "Epoch 44/60\n",
            "23/23 [==============================] - 19s 817ms/step - loss: 3.0000e-07 - accuracy: 1.0000 - precision: 0.9993 - recall: 0.9925\n",
            "Epoch 45/60\n",
            "23/23 [==============================] - 19s 817ms/step - loss: 2.9522e-07 - accuracy: 1.0000 - precision: 0.9993 - recall: 0.9925\n",
            "Epoch 46/60\n",
            "23/23 [==============================] - 19s 817ms/step - loss: 2.9102e-07 - accuracy: 1.0000 - precision: 0.9993 - recall: 0.9926\n",
            "Epoch 47/60\n",
            "23/23 [==============================] - 19s 815ms/step - loss: 2.8648e-07 - accuracy: 1.0000 - precision: 0.9993 - recall: 0.9926\n",
            "Epoch 48/60\n",
            "23/23 [==============================] - 19s 814ms/step - loss: 2.8195e-07 - accuracy: 1.0000 - precision: 0.9993 - recall: 0.9927\n",
            "Epoch 49/60\n",
            "23/23 [==============================] - 19s 816ms/step - loss: 2.7821e-07 - accuracy: 1.0000 - precision: 0.9993 - recall: 0.9927\n",
            "Epoch 50/60\n",
            "23/23 [==============================] - 19s 814ms/step - loss: 2.7389e-07 - accuracy: 1.0000 - precision: 0.9993 - recall: 0.9927\n",
            "Epoch 51/60\n",
            "23/23 [==============================] - 19s 815ms/step - loss: 2.6998e-07 - accuracy: 1.0000 - precision: 0.9993 - recall: 0.9928\n",
            "Epoch 52/60\n",
            "23/23 [==============================] - 19s 817ms/step - loss: 2.6549e-07 - accuracy: 1.0000 - precision: 0.9993 - recall: 0.9928\n",
            "Epoch 53/60\n",
            "23/23 [==============================] - 19s 817ms/step - loss: 2.6154e-07 - accuracy: 1.0000 - precision: 0.9993 - recall: 0.9929\n",
            "Epoch 54/60\n",
            "23/23 [==============================] - 19s 818ms/step - loss: 2.5721e-07 - accuracy: 1.0000 - precision: 0.9993 - recall: 0.9929\n",
            "Epoch 55/60\n",
            "23/23 [==============================] - 19s 818ms/step - loss: 2.5372e-07 - accuracy: 1.0000 - precision: 0.9993 - recall: 0.9929\n",
            "Epoch 56/60\n",
            "23/23 [==============================] - 19s 816ms/step - loss: 2.4989e-07 - accuracy: 1.0000 - precision: 0.9993 - recall: 0.9930\n",
            "Epoch 57/60\n",
            "23/23 [==============================] - 19s 815ms/step - loss: 2.4653e-07 - accuracy: 1.0000 - precision: 0.9993 - recall: 0.9930\n",
            "Epoch 58/60\n",
            "23/23 [==============================] - 19s 814ms/step - loss: 2.4337e-07 - accuracy: 1.0000 - precision: 0.9993 - recall: 0.9931\n",
            "Epoch 59/60\n",
            "23/23 [==============================] - 19s 814ms/step - loss: 2.3913e-07 - accuracy: 1.0000 - precision: 0.9994 - recall: 0.9931\n",
            "Epoch 60/60\n",
            "23/23 [==============================] - 19s 813ms/step - loss: 2.3563e-07 - accuracy: 1.0000 - precision: 0.9994 - recall: 0.9931\n"
          ],
          "name": "stdout"
        }
      ]
    },
    {
      "cell_type": "code",
      "metadata": {
        "colab": {
          "base_uri": "https://localhost:8080/",
          "height": 851
        },
        "id": "H8Xu4C9XO4Fm",
        "outputId": "ab62dfd4-7cb2-4e1c-ec4a-7f5f6b7df42b"
      },
      "source": [
        "# 훈련 단계 별 Training and validation loss\n",
        "\n",
        "for i in range(3):\n",
        "    loss =all_history[i]['loss']\n",
        "    #val_loss = all_history[i]['val_loss']\n",
        "    epochs = range(1, len(loss) + 1)\n",
        "    plt.plot(epochs, loss, 'bo', label='Training loss') \n",
        "    plt.title('Training and validation loss')\n",
        "    plt.xlabel('Epochs')\n",
        "    plt.ylabel('Loss')\n",
        "    plt.legend()\n",
        "    plt.show()"
      ],
      "id": "H8Xu4C9XO4Fm",
      "execution_count": 20,
      "outputs": [
        {
          "output_type": "display_data",
          "data": {
            "image/png": "[encoded data removed]",
            "text/plain": [
              "<Figure size 432x288 with 1 Axes>"
            ]
          },
          "metadata": {
            "tags": [],
            "needs_background": "light"
          }
        },
        {
          "output_type": "display_data",
          "data": {
            "image/png": "[encoded data removed]",
            "text/plain": [
              "<Figure size 432x288 with 1 Axes>"
            ]
          },
          "metadata": {
            "tags": [],
            "needs_background": "light"
          }
        },
        {
          "output_type": "display_data",
          "data": {
            "image/png": "[encoded data removed]",
            "text/plain": [
              "<Figure size 432x288 with 1 Axes>"
            ]
          },
          "metadata": {
            "tags": [],
            "needs_background": "light"
          }
        }
      ]
    },
    {
      "cell_type": "code",
      "metadata": {
        "colab": {
          "base_uri": "https://localhost:8080/"
        },
        "id": "ZPMzWAVuS1lB",
        "outputId": "dbc610cd-0fe7-499b-f953-a5df0a969ed9"
      },
      "source": [
        "# accuracy\n",
        "\n",
        "accuracy = sum(all_acc)/3\n",
        "\n",
        "print('Average accuracy : ', accuracy)\n",
        "print('Average recall : ', sum(all_recall)/3)\n",
        "print('Average F1 score : ', sum(all_f1)/3)\n",
        "print('Average precision : ', sum(all_precision)/3)"
      ],
      "id": "ZPMzWAVuS1lB",
      "execution_count": 21,
      "outputs": [
        {
          "output_type": "stream",
          "text": [
            "Average accuracy :  0.9951179820992677\n",
            "Average recall :  0.9951179820992677\n",
            "Average F1 score :  0.995928338762215\n",
            "Average precision :  0.9967400162999184\n"
          ],
          "name": "stdout"
        }
      ]
    },
    {
      "cell_type": "code",
      "metadata": {
        "colab": {
          "base_uri": "https://localhost:8080/"
        },
        "id": "6txkYGiNFAVk",
        "outputId": "1a20e427-956a-4fe3-ddac-d43d110d04a2"
      },
      "source": [
        "score = model.evaluate(X_test, Y_test, verbose=0)\n",
        "print('Test score:', score[0])\n",
        "print('Test accuracy:', score[1])"
      ],
      "id": "6txkYGiNFAVk",
      "execution_count": 22,
      "outputs": [
        {
          "output_type": "stream",
          "text": [
            "Test score: 0.01583733782172203\n",
            "Test accuracy: 0.9951179623603821\n"
          ],
          "name": "stdout"
        }
      ]
    },
    {
      "cell_type": "markdown",
      "metadata": {
        "id": "TFXEjhQ9Oozv"
      },
      "source": [
        "<h1> Build Face Model </h1>"
      ],
      "id": "TFXEjhQ9Oozv"
    },
    {
      "cell_type": "markdown",
      "metadata": {
        "id": "2556bc9d"
      },
      "source": [
        "<h1> Test </h1>"
      ],
      "id": "2556bc9d"
    },
    {
      "cell_type": "code",
      "metadata": {
        "id": "vbDVjvRMh-TL"
      },
      "source": [
        "import pandas as pd"
      ],
      "id": "vbDVjvRMh-TL",
      "execution_count": 23,
      "outputs": []
    },
    {
      "cell_type": "code",
      "metadata": {
        "id": "61e4e7e3"
      },
      "source": [
        "# 테스트데이터 파일을 숫자 순으로 정렬\n",
        "import natsort\n",
        "order_list = os.listdir(path+'04_multimodal_test')\n",
        "order_list = natsort.natsorted(order_list)"
      ],
      "id": "61e4e7e3",
      "execution_count": 24,
      "outputs": []
    },
    {
      "cell_type": "code",
      "metadata": {
        "colab": {
          "base_uri": "https://localhost:8080/"
        },
        "id": "iTG2okBXqG-H",
        "outputId": "8e2db0be-62bf-4ea4-a7d2-c99db40dbc41"
      },
      "source": [
        "print(order_list)"
      ],
      "id": "iTG2okBXqG-H",
      "execution_count": 25,
      "outputs": [
        {
          "output_type": "stream",
          "text": [
            "['0_face.png', '0_iris.png', '1_face.png', '1_iris.png', '2_face.png', '2_iris.png', '3_face.png', '3_iris.png', '4_face.png', '4_iris.png', '5_face.png', '5_iris.png', '6_face.png', '6_iris.png', '7_face.png', '7_iris.png', '8_face.png', '8_iris.png', '9_face.png', '9_iris.png', '10_face.png', '10_iris.png', '11_face.png', '11_iris.png', '12_face.png', '12_iris.png', '13_face.png', '13_iris.png', '14_face.png', '14_iris.png', '15_face.png', '15_iris.png', '16_face.png', '16_iris.png', '17_face.png', '17_iris.png', '18_face.png', '18_iris.png', '19_face.png', '19_iris.png', '20_face.png', '20_iris.png', '21_face.png', '21_iris.png', '22_face.png', '22_iris.png', '23_face.png', '23_iris.png', '24_face.png', '24_iris.png', '25_face.png', '25_iris.png', '26_face.png', '26_iris.png', '27_face.png', '27_iris.png', '28_face.png', '28_iris.png', '29_face.png', '29_iris.png', '30_face.png', '30_iris.png', '31_face.png', '31_iris.png', '32_face.png', '32_iris.png', '33_face.png', '33_iris.png', '34_face.png', '34_iris.png', '35_face.png', '35_iris.png', '36_face.png', '36_iris.png', '37_face.png', '37_iris.png', '38_face.png', '38_iris.png', '39_face.png', '39_iris.png', '40_face.png', '40_iris.png', '41_face.png', '41_iris.png', '42_face.png', '42_iris.png', '43_face.png', '43_iris.png', '44_face.png', '44_iris.png', '45_face.png', '45_iris.png', '46_face.png', '46_iris.png', '47_face.png', '47_iris.png', '48_face.png', '48_iris.png', '49_face.png', '49_iris.png', '50_face.png', '50_iris.png', '51_face.png', '51_iris.png', '52_face.png', '52_iris.png', '53_face.png', '53_iris.png', '54_face.png', '54_iris.png', '55_face.png', '55_iris.png', '56_face.png', '56_iris.png', '57_face.png', '57_iris.png', '58_face.png', '58_iris.png', '59_face.png', '59_iris.png', '60_face.png', '60_iris.png', '61_face.png', '61_iris.png', '62_face.png', '62_iris.png', '63_face.png', '63_iris.png']\n"
          ],
          "name": "stdout"
        }
      ]
    },
    {
      "cell_type": "code",
      "metadata": {
        "id": "YCa1g6-gYg4e"
      },
      "source": [
        "# face와 test 각각 배열에 저장\n",
        "face_test = []\n",
        "iris_test = []\n",
        "tmp = []\n",
        "\n",
        "for filename in order_list:\n",
        "    imagePath = path + '/04_multimodal_test/' + filename\n",
        "\n",
        "    image = cv2.imread(imagePath)\n",
        "    image = cv2.cvtColor(image, cv2.COLOR_BGR2RGB)\n",
        "    image = cv2.resize(image, (IMAGE_WIDTH, IMAGE_HEIGHT))\n",
        "\n",
        "    i = 0\n",
        "    if filename[-8:-4] == 'face':\n",
        "      face_test.append(image)\n",
        "    elif filename[-8:-4] == 'iris':\n",
        "      iris_test.append(image)"
      ],
      "id": "YCa1g6-gYg4e",
      "execution_count": 26,
      "outputs": []
    },
    {
      "cell_type": "code",
      "metadata": {
        "id": "OOwvgakcq9HM"
      },
      "source": [
        "test_X = []\n",
        "\n",
        "for i in range(len(face_test)):\n",
        "  test_X.append(face_test[i]+iris_test[i])"
      ],
      "id": "OOwvgakcq9HM",
      "execution_count": 27,
      "outputs": []
    },
    {
      "cell_type": "code",
      "metadata": {
        "id": "vrWgojqNqboa"
      },
      "source": [
        "# model predict\n",
        "test_X = np.array(test_X)\n",
        "test_X = test_X.astype('float32')\n",
        "test_X /= 255\n",
        "pred = model.predict(test_X).argmax(1)"
      ],
      "id": "vrWgojqNqboa",
      "execution_count": 28,
      "outputs": []
    },
    {
      "cell_type": "code",
      "metadata": {
        "colab": {
          "base_uri": "https://localhost:8080/"
        },
        "id": "3b0RgwsMuMuF",
        "outputId": "9f750bac-6d9d-4bff-f941-1ded6f2e7d8d"
      },
      "source": [
        "# model result\n",
        "pred"
      ],
      "id": "3b0RgwsMuMuF",
      "execution_count": null,
      "outputs": [
        {
          "output_type": "execute_result",
          "data": {
            "text/plain": [
              "array([27, 31, 22, 57, 54, 45,  5, 12,  8,  7, 36,  2, 46, 50, 10, 61, 49,\n",
              "       59, 56, 13, 37, 30, 25,  0, 41, 58,  9, 20, 48, 47, 42, 24,  3,  6,\n",
              "       55, 63, 21, 16, 34, 11, 35, 32, 40, 62, 19, 52, 33, 15,  1, 29, 17,\n",
              "       26, 53, 28, 18, 14, 43, 60,  4, 39, 38, 23, 51, 44])"
            ]
          },
          "metadata": {
            "tags": []
          },
          "execution_count": 41
        }
      ]
    },
    {
      "cell_type": "markdown",
      "metadata": {
        "id": "AdDHnO3bUZbv"
      },
      "source": [
        "<h1> Result </h1>"
      ],
      "id": "AdDHnO3bUZbv"
    },
    {
      "cell_type": "code",
      "metadata": {
        "id": "HBjed2RWj_1u"
      },
      "source": [
        "result = pd.DataFrame({'Image':[],\n",
        "                 'Answer':[]})"
      ],
      "id": "HBjed2RWj_1u",
      "execution_count": 30,
      "outputs": []
    },
    {
      "cell_type": "code",
      "metadata": {
        "id": "JPNVh0YZgeTc"
      },
      "source": [
        "for i in range(len(pred)):\n",
        "  new_data = {'Image':int(i), 'Answer':int(pred[i])}\n",
        "  result = result.append(new_data, ignore_index = True)"
      ],
      "id": "JPNVh0YZgeTc",
      "execution_count": 32,
      "outputs": []
    },
    {
      "cell_type": "code",
      "metadata": {
        "colab": {
          "base_uri": "https://localhost:8080/",
          "height": 414
        },
        "id": "sobEo3ghi16v",
        "outputId": "1876085c-2ac9-4791-cbf8-200d7969a526"
      },
      "source": [
        "result"
      ],
      "id": "sobEo3ghi16v",
      "execution_count": 33,
      "outputs": [
        {
          "output_type": "execute_result",
          "data": {
            "text/html": [
              "<div>\n",
              "<style scoped>\n",
              "    .dataframe tbody tr th:only-of-type {\n",
              "        vertical-align: middle;\n",
              "    }\n",
              "\n",
              "    .dataframe tbody tr th {\n",
              "        vertical-align: top;\n",
              "    }\n",
              "\n",
              "    .dataframe thead th {\n",
              "        text-align: right;\n",
              "    }\n",
              "</style>\n",
              "<table border=\"1\" class=\"dataframe\">\n",
              "  <thead>\n",
              "    <tr style=\"text-align: right;\">\n",
              "      <th></th>\n",
              "      <th>Image</th>\n",
              "      <th>Answer</th>\n",
              "    </tr>\n",
              "  </thead>\n",
              "  <tbody>\n",
              "    <tr>\n",
              "      <th>0</th>\n",
              "      <td>0.0</td>\n",
              "      <td>27.0</td>\n",
              "    </tr>\n",
              "    <tr>\n",
              "      <th>1</th>\n",
              "      <td>1.0</td>\n",
              "      <td>31.0</td>\n",
              "    </tr>\n",
              "    <tr>\n",
              "      <th>2</th>\n",
              "      <td>2.0</td>\n",
              "      <td>34.0</td>\n",
              "    </tr>\n",
              "    <tr>\n",
              "      <th>3</th>\n",
              "      <td>3.0</td>\n",
              "      <td>57.0</td>\n",
              "    </tr>\n",
              "    <tr>\n",
              "      <th>4</th>\n",
              "      <td>4.0</td>\n",
              "      <td>54.0</td>\n",
              "    </tr>\n",
              "    <tr>\n",
              "      <th>...</th>\n",
              "      <td>...</td>\n",
              "      <td>...</td>\n",
              "    </tr>\n",
              "    <tr>\n",
              "      <th>59</th>\n",
              "      <td>59.0</td>\n",
              "      <td>39.0</td>\n",
              "    </tr>\n",
              "    <tr>\n",
              "      <th>60</th>\n",
              "      <td>60.0</td>\n",
              "      <td>38.0</td>\n",
              "    </tr>\n",
              "    <tr>\n",
              "      <th>61</th>\n",
              "      <td>61.0</td>\n",
              "      <td>23.0</td>\n",
              "    </tr>\n",
              "    <tr>\n",
              "      <th>62</th>\n",
              "      <td>62.0</td>\n",
              "      <td>51.0</td>\n",
              "    </tr>\n",
              "    <tr>\n",
              "      <th>63</th>\n",
              "      <td>63.0</td>\n",
              "      <td>44.0</td>\n",
              "    </tr>\n",
              "  </tbody>\n",
              "</table>\n",
              "<p>64 rows × 2 columns</p>\n",
              "</div>"
            ],
            "text/plain": [
              "    Image  Answer\n",
              "0     0.0    27.0\n",
              "1     1.0    31.0\n",
              "2     2.0    34.0\n",
              "3     3.0    57.0\n",
              "4     4.0    54.0\n",
              "..    ...     ...\n",
              "59   59.0    39.0\n",
              "60   60.0    38.0\n",
              "61   61.0    23.0\n",
              "62   62.0    51.0\n",
              "63   63.0    44.0\n",
              "\n",
              "[64 rows x 2 columns]"
            ]
          },
          "metadata": {
            "tags": []
          },
          "execution_count": 33
        }
      ]
    },
    {
      "cell_type": "code",
      "metadata": {
        "id": "W9n-j7hkjK3Y"
      },
      "source": [
        "result.to_csv('/gdrive/My Drive/multimodal_result.csv')"
      ],
      "id": "W9n-j7hkjK3Y",
      "execution_count": 34,
      "outputs": []
    }
  ]
}